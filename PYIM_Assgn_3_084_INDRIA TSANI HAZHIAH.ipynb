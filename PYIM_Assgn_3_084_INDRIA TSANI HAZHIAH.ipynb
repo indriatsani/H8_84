{
 "cells": [
  {
   "cell_type": "markdown",
   "id": "79149b20",
   "metadata": {},
   "source": [
    "# Sentiment Analysis\n",
    "## Projects Concepts\n",
    "### Approaching a Project\n",
    "\n",
    "Mengembangkan aplikasi dalam skala besar tidaklah mudah. Jangan langsung terjun dan mencoba untuk menyelesaikan semuanya sekaligus. Seperti petuah bijak berikut:\n",
    "\n",
    "\"A goal without a plan is just a wish.\"\n",
    "\n",
    "Mulailah dengan rencana! Berikut beberapa langkah yang sebaiknya diikuti ketika mengembangkan aplikasi:\n",
    "\n",
    "- buatlah outline langkah demi langkah yang dibutuhkan untuk membangun aplikasi\n",
    "- kemudian tulis pseudocode\n",
    "- kembangkan sintaks satu per satu\n",
    "\n",
    "Dan sebelum submit, pastikan:\n",
    "\n",
    "- semua bugs sudah dibasmi\n",
    "- cek rubrik dan pastikan proyek kamu sudah memenuhi semua requirements\n",
    "\n",
    "### Project Overview\n",
    "\n",
    "DATA COLUMNS:\n",
    "marketplace       - 2 letter country code of the marketplace where the review was written.\n",
    "customer_id       - Random identifier that can be used to aggregate reviews written by a single author.\n",
    "review_id         - The unique ID of the review.\n",
    "product_id        - The unique Product ID the review pertains to. In the multilingual dataset the reviews\n",
    "for the same product in different countries can be grouped by the same product_id.\n",
    "product_parent    - Random identifier that can be used to aggregate reviews for the same product.\n",
    "product_title     - Title of the product.\n",
    "product_category  - Broad product category that can be used to group reviews\n",
    "(also used to group the dataset into coherent parts).\n",
    "star_rating       - The 1-5 star rating of the review.\n",
    "helpful_votes     - Number of helpful votes.\n",
    "total_votes       - Number of total votes the review received.\n",
    "vine              - Review was written as part of the Vine program.\n",
    "verified_purchase - The review is on a verified purchase.\n",
    "review_headline   - The title of the review.\n",
    "review_body       - The review text.\n",
    "review_date       - The date the review was written.\n",
    "\n",
    "DATA FORMAT\n",
    "Tab ('\\t') separated text file, without quote or escape characters.\n",
    "First line in each file is header; 1 line corresponds to 1 record.\n",
    "\n",
    "In this assignment, you have to demonstrate:\n",
    "\n",
    "- How to load and prepare text for modeling.\n",
    "- How to develop a RNN for text classification sentiment analysis with Tensorflow and improve model performance.\n"
   ]
  },
  {
   "cell_type": "markdown",
   "id": "7c252dcf",
   "metadata": {},
   "source": [
    "## Setup"
   ]
  },
  {
   "cell_type": "code",
   "execution_count": 86,
   "id": "ca038ca0",
   "metadata": {},
   "outputs": [
    {
     "name": "stdout",
     "output_type": "stream",
     "text": [
      "Requirement already satisfied: tensorflow-datasets in c:\\users\\indria.hazhiah\\anaconda3\\lib\\site-packages (4.6.0)\n",
      "Requirement already satisfied: absl-py in c:\\users\\indria.hazhiah\\anaconda3\\lib\\site-packages (from tensorflow-datasets) (1.2.0)\n",
      "Requirement already satisfied: etils[epath] in c:\\users\\indria.hazhiah\\anaconda3\\lib\\site-packages (from tensorflow-datasets) (0.7.1)\n",
      "Requirement already satisfied: dill in c:\\users\\indria.hazhiah\\anaconda3\\lib\\site-packages (from tensorflow-datasets) (0.3.5.1)\n",
      "Requirement already satisfied: tensorflow-metadata in c:\\users\\indria.hazhiah\\anaconda3\\lib\\site-packages (from tensorflow-datasets) (1.10.0)\n",
      "Requirement already satisfied: toml in c:\\users\\indria.hazhiah\\anaconda3\\lib\\site-packages (from tensorflow-datasets) (0.10.2)\n",
      "Requirement already satisfied: tqdm in c:\\users\\indria.hazhiah\\anaconda3\\lib\\site-packages (from tensorflow-datasets) (4.64.0)\n",
      "Requirement already satisfied: protobuf>=3.12.2 in c:\\users\\indria.hazhiah\\anaconda3\\lib\\site-packages (from tensorflow-datasets) (3.19.1)\n",
      "Requirement already satisfied: requests>=2.19.0 in c:\\users\\indria.hazhiah\\anaconda3\\lib\\site-packages (from tensorflow-datasets) (2.27.1)\n",
      "Requirement already satisfied: six in c:\\users\\indria.hazhiah\\anaconda3\\lib\\site-packages (from tensorflow-datasets) (1.16.0)\n",
      "Requirement already satisfied: numpy in c:\\users\\indria.hazhiah\\anaconda3\\lib\\site-packages (from tensorflow-datasets) (1.21.5)\n",
      "Requirement already satisfied: termcolor in c:\\users\\indria.hazhiah\\anaconda3\\lib\\site-packages (from tensorflow-datasets) (1.1.0)\n",
      "Requirement already satisfied: promise in c:\\users\\indria.hazhiah\\anaconda3\\lib\\site-packages (from tensorflow-datasets) (2.3)\n",
      "Requirement already satisfied: charset-normalizer~=2.0.0 in c:\\users\\indria.hazhiah\\anaconda3\\lib\\site-packages (from requests>=2.19.0->tensorflow-datasets) (2.0.4)\n",
      "Requirement already satisfied: urllib3<1.27,>=1.21.1 in c:\\users\\indria.hazhiah\\anaconda3\\lib\\site-packages (from requests>=2.19.0->tensorflow-datasets) (1.26.9)\n",
      "Requirement already satisfied: certifi>=2017.4.17 in c:\\users\\indria.hazhiah\\anaconda3\\lib\\site-packages (from requests>=2.19.0->tensorflow-datasets) (2021.10.8)\n",
      "Requirement already satisfied: idna<4,>=2.5 in c:\\users\\indria.hazhiah\\anaconda3\\lib\\site-packages (from requests>=2.19.0->tensorflow-datasets) (3.3)\n",
      "Requirement already satisfied: typing_extensions in c:\\users\\indria.hazhiah\\anaconda3\\lib\\site-packages (from etils[epath]->tensorflow-datasets) (4.1.1)\n",
      "Requirement already satisfied: zipp in c:\\users\\indria.hazhiah\\anaconda3\\lib\\site-packages (from etils[epath]->tensorflow-datasets) (3.7.0)\n",
      "Requirement already satisfied: importlib_resources in c:\\users\\indria.hazhiah\\anaconda3\\lib\\site-packages (from etils[epath]->tensorflow-datasets) (5.9.0)\n",
      "Requirement already satisfied: googleapis-common-protos<2,>=1.52.0 in c:\\users\\indria.hazhiah\\anaconda3\\lib\\site-packages (from tensorflow-metadata->tensorflow-datasets) (1.53.0)\n",
      "Requirement already satisfied: colorama in c:\\users\\indria.hazhiah\\anaconda3\\lib\\site-packages (from tqdm->tensorflow-datasets) (0.4.4)\n",
      "Collecting tensorflow\n",
      "  Downloading tensorflow-2.9.1-cp39-cp39-win_amd64.whl (444.0 MB)\n",
      "     -------------------------------------- 444.0/444.0 MB 1.9 MB/s eta 0:00:00\n",
      "Requirement already satisfied: numpy>=1.20 in c:\\users\\indria.hazhiah\\anaconda3\\lib\\site-packages (from tensorflow) (1.21.5)\n",
      "Collecting google-pasta>=0.1.1\n",
      "  Downloading google_pasta-0.2.0-py3-none-any.whl (57 kB)\n",
      "     ---------------------------------------- 57.5/57.5 kB 3.0 MB/s eta 0:00:00\n",
      "Requirement already satisfied: setuptools in c:\\users\\indria.hazhiah\\anaconda3\\lib\\site-packages (from tensorflow) (61.2.0)\n",
      "Requirement already satisfied: six>=1.12.0 in c:\\users\\indria.hazhiah\\anaconda3\\lib\\site-packages (from tensorflow) (1.16.0)\n",
      "Collecting gast<=0.4.0,>=0.2.1\n",
      "  Downloading gast-0.4.0-py3-none-any.whl (9.8 kB)\n",
      "Collecting tensorflow-io-gcs-filesystem>=0.23.1\n",
      "  Downloading tensorflow_io_gcs_filesystem-0.26.0-cp39-cp39-win_amd64.whl (1.5 MB)\n",
      "     ---------------------------------------- 1.5/1.5 MB 1.8 MB/s eta 0:00:00\n",
      "Requirement already satisfied: grpcio<2.0,>=1.24.3 in c:\\users\\indria.hazhiah\\anaconda3\\lib\\site-packages (from tensorflow) (1.42.0)\n",
      "Collecting libclang>=13.0.0\n",
      "  Downloading libclang-14.0.6-py2.py3-none-win_amd64.whl (14.2 MB)\n",
      "     ---------------------------------------- 14.2/14.2 MB 3.1 MB/s eta 0:00:00\n",
      "Collecting tensorboard<2.10,>=2.9\n",
      "  Downloading tensorboard-2.9.1-py3-none-any.whl (5.8 MB)\n",
      "     ---------------------------------------- 5.8/5.8 MB 3.8 MB/s eta 0:00:00\n",
      "Requirement already satisfied: typing-extensions>=3.6.6 in c:\\users\\indria.hazhiah\\anaconda3\\lib\\site-packages (from tensorflow) (4.1.1)\n",
      "Requirement already satisfied: wrapt>=1.11.0 in c:\\users\\indria.hazhiah\\anaconda3\\lib\\site-packages (from tensorflow) (1.12.1)\n",
      "Requirement already satisfied: absl-py>=1.0.0 in c:\\users\\indria.hazhiah\\anaconda3\\lib\\site-packages (from tensorflow) (1.2.0)\n",
      "Collecting opt-einsum>=2.3.2\n",
      "  Downloading opt_einsum-3.3.0-py3-none-any.whl (65 kB)\n",
      "     ---------------------------------------- 65.5/65.5 kB 3.7 MB/s eta 0:00:00\n",
      "Collecting flatbuffers<2,>=1.12\n",
      "  Downloading flatbuffers-1.12-py2.py3-none-any.whl (15 kB)\n",
      "Collecting keras-preprocessing>=1.1.1\n",
      "  Downloading Keras_Preprocessing-1.1.2-py2.py3-none-any.whl (42 kB)\n",
      "     ---------------------------------------- 42.6/42.6 kB ? eta 0:00:00\n",
      "Requirement already satisfied: packaging in c:\\users\\indria.hazhiah\\anaconda3\\lib\\site-packages (from tensorflow) (21.3)\n",
      "Requirement already satisfied: termcolor>=1.1.0 in c:\\users\\indria.hazhiah\\anaconda3\\lib\\site-packages (from tensorflow) (1.1.0)\n",
      "Requirement already satisfied: h5py>=2.9.0 in c:\\users\\indria.hazhiah\\anaconda3\\lib\\site-packages (from tensorflow) (3.6.0)\n",
      "Collecting astunparse>=1.6.0\n",
      "  Downloading astunparse-1.6.3-py2.py3-none-any.whl (12 kB)\n",
      "Collecting tensorflow-estimator<2.10.0,>=2.9.0rc0\n",
      "  Downloading tensorflow_estimator-2.9.0-py2.py3-none-any.whl (438 kB)\n",
      "     -------------------------------------- 438.7/438.7 kB 6.9 MB/s eta 0:00:00\n",
      "Requirement already satisfied: protobuf<3.20,>=3.9.2 in c:\\users\\indria.hazhiah\\anaconda3\\lib\\site-packages (from tensorflow) (3.19.1)\n",
      "Collecting keras<2.10.0,>=2.9.0rc0\n",
      "  Downloading keras-2.9.0-py2.py3-none-any.whl (1.6 MB)\n",
      "     ---------------------------------------- 1.6/1.6 MB 8.7 MB/s eta 0:00:00\n",
      "Requirement already satisfied: wheel<1.0,>=0.23.0 in c:\\users\\indria.hazhiah\\anaconda3\\lib\\site-packages (from astunparse>=1.6.0->tensorflow) (0.37.1)\n",
      "Collecting tensorboard-plugin-wit>=1.6.0\n",
      "  Downloading tensorboard_plugin_wit-1.8.1-py3-none-any.whl (781 kB)\n",
      "     -------------------------------------- 781.3/781.3 kB 9.9 MB/s eta 0:00:00\n",
      "Requirement already satisfied: requests<3,>=2.21.0 in c:\\users\\indria.hazhiah\\anaconda3\\lib\\site-packages (from tensorboard<2.10,>=2.9->tensorflow) (2.27.1)\n",
      "Requirement already satisfied: werkzeug>=1.0.1 in c:\\users\\indria.hazhiah\\anaconda3\\lib\\site-packages (from tensorboard<2.10,>=2.9->tensorflow) (2.0.3)\n",
      "Requirement already satisfied: markdown>=2.6.8 in c:\\users\\indria.hazhiah\\anaconda3\\lib\\site-packages (from tensorboard<2.10,>=2.9->tensorflow) (3.3.4)\n",
      "Collecting tensorboard-data-server<0.7.0,>=0.6.0\n",
      "  Downloading tensorboard_data_server-0.6.1-py3-none-any.whl (2.4 kB)\n",
      "Collecting google-auth-oauthlib<0.5,>=0.4.1\n",
      "  Downloading google_auth_oauthlib-0.4.6-py2.py3-none-any.whl (18 kB)\n",
      "Requirement already satisfied: google-auth<3,>=1.6.3 in c:\\users\\indria.hazhiah\\anaconda3\\lib\\site-packages (from tensorboard<2.10,>=2.9->tensorflow) (1.33.0)\n",
      "Requirement already satisfied: pyparsing!=3.0.5,>=2.0.2 in c:\\users\\indria.hazhiah\\anaconda3\\lib\\site-packages (from packaging->tensorflow) (3.0.4)\n",
      "Requirement already satisfied: rsa<5,>=3.1.4 in c:\\users\\indria.hazhiah\\anaconda3\\lib\\site-packages (from google-auth<3,>=1.6.3->tensorboard<2.10,>=2.9->tensorflow) (4.7.2)\n",
      "Requirement already satisfied: pyasn1-modules>=0.2.1 in c:\\users\\indria.hazhiah\\anaconda3\\lib\\site-packages (from google-auth<3,>=1.6.3->tensorboard<2.10,>=2.9->tensorflow) (0.2.8)\n",
      "Requirement already satisfied: cachetools<5.0,>=2.0.0 in c:\\users\\indria.hazhiah\\anaconda3\\lib\\site-packages (from google-auth<3,>=1.6.3->tensorboard<2.10,>=2.9->tensorflow) (4.2.2)\n",
      "Collecting requests-oauthlib>=0.7.0\n",
      "  Downloading requests_oauthlib-1.3.1-py2.py3-none-any.whl (23 kB)\n",
      "Requirement already satisfied: urllib3<1.27,>=1.21.1 in c:\\users\\indria.hazhiah\\anaconda3\\lib\\site-packages (from requests<3,>=2.21.0->tensorboard<2.10,>=2.9->tensorflow) (1.26.9)\n",
      "Requirement already satisfied: idna<4,>=2.5 in c:\\users\\indria.hazhiah\\anaconda3\\lib\\site-packages (from requests<3,>=2.21.0->tensorboard<2.10,>=2.9->tensorflow) (3.3)\n",
      "Requirement already satisfied: charset-normalizer~=2.0.0 in c:\\users\\indria.hazhiah\\anaconda3\\lib\\site-packages (from requests<3,>=2.21.0->tensorboard<2.10,>=2.9->tensorflow) (2.0.4)\n",
      "Requirement already satisfied: certifi>=2017.4.17 in c:\\users\\indria.hazhiah\\anaconda3\\lib\\site-packages (from requests<3,>=2.21.0->tensorboard<2.10,>=2.9->tensorflow) (2021.10.8)\n",
      "Requirement already satisfied: pyasn1<0.5.0,>=0.4.6 in c:\\users\\indria.hazhiah\\anaconda3\\lib\\site-packages (from pyasn1-modules>=0.2.1->google-auth<3,>=1.6.3->tensorboard<2.10,>=2.9->tensorflow) (0.4.8)\n",
      "Collecting oauthlib>=3.0.0\n",
      "  Downloading oauthlib-3.2.0-py3-none-any.whl (151 kB)\n",
      "     -------------------------------------- 151.5/151.5 kB 8.8 MB/s eta 0:00:00\n",
      "Installing collected packages: tensorboard-plugin-wit, libclang, keras, flatbuffers, tensorflow-io-gcs-filesystem, tensorflow-estimator, tensorboard-data-server, opt-einsum, oauthlib, keras-preprocessing, google-pasta, gast, astunparse, requests-oauthlib, google-auth-oauthlib, tensorboard, tensorflow\n",
      "Successfully installed astunparse-1.6.3 flatbuffers-1.12 gast-0.4.0 google-auth-oauthlib-0.4.6 google-pasta-0.2.0 keras-2.9.0 keras-preprocessing-1.1.2 libclang-14.0.6 oauthlib-3.2.0 opt-einsum-3.3.0 requests-oauthlib-1.3.1 tensorboard-2.9.1 tensorboard-data-server-0.6.1 tensorboard-plugin-wit-1.8.1 tensorflow-2.9.1 tensorflow-estimator-2.9.0 tensorflow-io-gcs-filesystem-0.26.0\n"
     ]
    }
   ],
   "source": [
    "!pip install tensorflow-datasets\n",
    "!pip install tensorflow\n",
    "import numpy as np\n",
    "import tensorflow_datasets as tfds\n",
    "\n",
    "tfds.disable_progress_bar()"
   ]
  },
  {
   "cell_type": "markdown",
   "id": "f1157c51",
   "metadata": {},
   "source": [
    "## Importing Libraries"
   ]
  },
  {
   "cell_type": "code",
   "execution_count": 9,
   "id": "40e02eb1",
   "metadata": {},
   "outputs": [],
   "source": [
    "import pandas as pd \n",
    "import numpy as np\n",
    "import matplotlib.pyplot as plt\n",
    "import seaborn as sns\n",
    "import pickle\n",
    "import csv\n",
    "%matplotlib inline\n"
   ]
  },
  {
   "cell_type": "code",
   "execution_count": 33,
   "id": "b8500f4f",
   "metadata": {
    "scrolled": false
   },
   "outputs": [
    {
     "name": "stderr",
     "output_type": "stream",
     "text": [
      "C:\\Users\\indria.hazhiah\\AppData\\Local\\Temp\\ipykernel_18948\\395863639.py:1: FutureWarning: The error_bad_lines argument has been deprecated and will be removed in a future version. Use on_bad_lines in the future.\n",
      "\n",
      "\n",
      "  data = pd.read_csv ('amazon_reviews_us_Video_DVD_v1_00.tsv',\n",
      "b'Skipping line 1890: expected 15 fields, saw 22\\nSkipping line 6666: expected 15 fields, saw 22\\n'\n",
      "b'Skipping line 111408: expected 15 fields, saw 22\\n'\n",
      "b'Skipping line 170181: expected 15 fields, saw 22\\nSkipping line 170231: expected 15 fields, saw 22\\n'\n",
      "b'Skipping line 256196: expected 15 fields, saw 22\\n'\n",
      "b'Skipping line 295037: expected 15 fields, saw 22\\n'\n",
      "b'Skipping line 548974: expected 15 fields, saw 22\\nSkipping line 551265: expected 15 fields, saw 22\\nSkipping line 551973: expected 15 fields, saw 22\\n'\n",
      "b'Skipping line 619923: expected 15 fields, saw 22\\n'\n",
      "b'Skipping line 763610: expected 15 fields, saw 22\\n'\n",
      "b'Skipping line 798928: expected 15 fields, saw 22\\n'\n",
      "b'Skipping line 859446: expected 15 fields, saw 22\\n'\n",
      "b'Skipping line 972328: expected 15 fields, saw 22\\n'\n",
      "b'Skipping line 988275: expected 15 fields, saw 22\\n'\n",
      "b'Skipping line 1133741: expected 15 fields, saw 22\\n'\n",
      "b'Skipping line 1278960: expected 15 fields, saw 22\\n'\n",
      "b'Skipping line 1317934: expected 15 fields, saw 22\\n'\n",
      "b'Skipping line 1388188: expected 15 fields, saw 22\\nSkipping line 1420410: expected 15 fields, saw 22\\n'\n",
      "b'Skipping line 1497179: expected 15 fields, saw 22\\n'\n",
      "b'Skipping line 1821149: expected 15 fields, saw 22\\n'\n",
      "b'Skipping line 1897694: expected 15 fields, saw 22\\n'\n"
     ]
    }
   ],
   "source": [
    "data = pd.read_csv ('amazon_reviews_us_Video_DVD_v1_00.tsv',\n",
    "                    sep='\\t',\n",
    "                    error_bad_lines=False)"
   ]
  },
  {
   "cell_type": "code",
   "execution_count": 35,
   "id": "fcaaf614",
   "metadata": {},
   "outputs": [
    {
     "data": {
      "text/plain": [
       "(5049291, 15)"
      ]
     },
     "execution_count": 35,
     "metadata": {},
     "output_type": "execute_result"
    }
   ],
   "source": [
    "data.shape"
   ]
  },
  {
   "cell_type": "code",
   "execution_count": 36,
   "id": "0bf3d235",
   "metadata": {},
   "outputs": [
    {
     "name": "stdout",
     "output_type": "stream",
     "text": [
      "<class 'pandas.core.frame.DataFrame'>\n",
      "RangeIndex: 5049291 entries, 0 to 5049290\n",
      "Data columns (total 15 columns):\n",
      " #   Column             Dtype  \n",
      "---  ------             -----  \n",
      " 0   marketplace        object \n",
      " 1   customer_id        int64  \n",
      " 2   review_id          object \n",
      " 3   product_id         object \n",
      " 4   product_parent     int64  \n",
      " 5   product_title      object \n",
      " 6   product_category   object \n",
      " 7   star_rating        float64\n",
      " 8   helpful_votes      float64\n",
      " 9   total_votes        float64\n",
      " 10  vine               object \n",
      " 11  verified_purchase  object \n",
      " 12  review_headline    object \n",
      " 13  review_body        object \n",
      " 14  review_date        object \n",
      "dtypes: float64(3), int64(2), object(10)\n",
      "memory usage: 577.8+ MB\n"
     ]
    }
   ],
   "source": [
    "data.info()"
   ]
  },
  {
   "cell_type": "code",
   "execution_count": 40,
   "id": "d57363ba",
   "metadata": {},
   "outputs": [
    {
     "data": {
      "text/plain": [
       "['customer_id',\n",
       " 'product_parent',\n",
       " 'star_rating',\n",
       " 'helpful_votes',\n",
       " 'total_votes']"
      ]
     },
     "execution_count": 40,
     "metadata": {},
     "output_type": "execute_result"
    }
   ],
   "source": [
    "numerical_columns = list(data.select_dtypes(include=['int64']).columns.values) + list(data.select_dtypes(include=['float64']).columns.values)\n",
    "categorical_columns = list(data.select_dtypes(include=['object']))\n",
    "\n",
    "# cetak variabel yang numerik\n",
    "numerical_columns"
   ]
  },
  {
   "cell_type": "code",
   "execution_count": 41,
   "id": "34fe0583",
   "metadata": {},
   "outputs": [
    {
     "data": {
      "text/plain": [
       "['marketplace',\n",
       " 'review_id',\n",
       " 'product_id',\n",
       " 'product_title',\n",
       " 'product_category',\n",
       " 'vine',\n",
       " 'verified_purchase',\n",
       " 'review_headline',\n",
       " 'review_body',\n",
       " 'review_date']"
      ]
     },
     "execution_count": 41,
     "metadata": {},
     "output_type": "execute_result"
    }
   ],
   "source": [
    "# cetak variabel yang kategorikal\n",
    "categorical_columns"
   ]
  },
  {
   "cell_type": "code",
   "execution_count": 37,
   "id": "4d043fc6",
   "metadata": {},
   "outputs": [
    {
     "data": {
      "text/html": [
       "<div>\n",
       "<style scoped>\n",
       "    .dataframe tbody tr th:only-of-type {\n",
       "        vertical-align: middle;\n",
       "    }\n",
       "\n",
       "    .dataframe tbody tr th {\n",
       "        vertical-align: top;\n",
       "    }\n",
       "\n",
       "    .dataframe thead th {\n",
       "        text-align: right;\n",
       "    }\n",
       "</style>\n",
       "<table border=\"1\" class=\"dataframe\">\n",
       "  <thead>\n",
       "    <tr style=\"text-align: right;\">\n",
       "      <th></th>\n",
       "      <th>marketplace</th>\n",
       "      <th>customer_id</th>\n",
       "      <th>review_id</th>\n",
       "      <th>product_id</th>\n",
       "      <th>product_parent</th>\n",
       "      <th>product_title</th>\n",
       "      <th>product_category</th>\n",
       "      <th>star_rating</th>\n",
       "      <th>helpful_votes</th>\n",
       "      <th>total_votes</th>\n",
       "      <th>vine</th>\n",
       "      <th>verified_purchase</th>\n",
       "      <th>review_headline</th>\n",
       "      <th>review_body</th>\n",
       "      <th>review_date</th>\n",
       "    </tr>\n",
       "  </thead>\n",
       "  <tbody>\n",
       "    <tr>\n",
       "      <th>0</th>\n",
       "      <td>US</td>\n",
       "      <td>27288431</td>\n",
       "      <td>R33UPQQUZQEM8</td>\n",
       "      <td>B005T4ND06</td>\n",
       "      <td>400024643</td>\n",
       "      <td>Yoga for Movement Disorders DVD: Rebuilding St...</td>\n",
       "      <td>Video DVD</td>\n",
       "      <td>5.0</td>\n",
       "      <td>3.0</td>\n",
       "      <td>3.0</td>\n",
       "      <td>N</td>\n",
       "      <td>Y</td>\n",
       "      <td>This was a gift for my aunt who has Parkinson'...</td>\n",
       "      <td>This was a gift for my aunt who has Parkinson'...</td>\n",
       "      <td>2015-08-31</td>\n",
       "    </tr>\n",
       "    <tr>\n",
       "      <th>1</th>\n",
       "      <td>US</td>\n",
       "      <td>13722556</td>\n",
       "      <td>R3IKTNQQPD9662</td>\n",
       "      <td>B004EPZ070</td>\n",
       "      <td>685335564</td>\n",
       "      <td>Something Borrowed</td>\n",
       "      <td>Video DVD</td>\n",
       "      <td>5.0</td>\n",
       "      <td>0.0</td>\n",
       "      <td>0.0</td>\n",
       "      <td>N</td>\n",
       "      <td>Y</td>\n",
       "      <td>Five Stars</td>\n",
       "      <td>Teats my heart out.</td>\n",
       "      <td>2015-08-31</td>\n",
       "    </tr>\n",
       "    <tr>\n",
       "      <th>2</th>\n",
       "      <td>US</td>\n",
       "      <td>20381037</td>\n",
       "      <td>R3U27V5QMCP27T</td>\n",
       "      <td>B005S9EKCW</td>\n",
       "      <td>922008804</td>\n",
       "      <td>Les Miserables (2012) [Blu-ray]</td>\n",
       "      <td>Video DVD</td>\n",
       "      <td>5.0</td>\n",
       "      <td>1.0</td>\n",
       "      <td>1.0</td>\n",
       "      <td>N</td>\n",
       "      <td>Y</td>\n",
       "      <td>Great movie!</td>\n",
       "      <td>Great movie.</td>\n",
       "      <td>2015-08-31</td>\n",
       "    </tr>\n",
       "    <tr>\n",
       "      <th>3</th>\n",
       "      <td>US</td>\n",
       "      <td>24852644</td>\n",
       "      <td>R2TOH2QKNK4IOC</td>\n",
       "      <td>B00FC1ZCB4</td>\n",
       "      <td>326560548</td>\n",
       "      <td>Alien Anthology and Prometheus Bundle [Blu-ray]</td>\n",
       "      <td>Video DVD</td>\n",
       "      <td>5.0</td>\n",
       "      <td>0.0</td>\n",
       "      <td>1.0</td>\n",
       "      <td>N</td>\n",
       "      <td>Y</td>\n",
       "      <td>Amazing</td>\n",
       "      <td>My husband was so excited to receive these as ...</td>\n",
       "      <td>2015-08-31</td>\n",
       "    </tr>\n",
       "    <tr>\n",
       "      <th>4</th>\n",
       "      <td>US</td>\n",
       "      <td>15556113</td>\n",
       "      <td>R2XQG5NJ59UFMY</td>\n",
       "      <td>B002ZG98Z0</td>\n",
       "      <td>637495038</td>\n",
       "      <td>Sex and the City 2</td>\n",
       "      <td>Video DVD</td>\n",
       "      <td>5.0</td>\n",
       "      <td>0.0</td>\n",
       "      <td>0.0</td>\n",
       "      <td>N</td>\n",
       "      <td>Y</td>\n",
       "      <td>Five Stars</td>\n",
       "      <td>Love this series.</td>\n",
       "      <td>2015-08-31</td>\n",
       "    </tr>\n",
       "  </tbody>\n",
       "</table>\n",
       "</div>"
      ],
      "text/plain": [
       "  marketplace  customer_id       review_id  product_id  product_parent  \\\n",
       "0          US     27288431   R33UPQQUZQEM8  B005T4ND06       400024643   \n",
       "1          US     13722556  R3IKTNQQPD9662  B004EPZ070       685335564   \n",
       "2          US     20381037  R3U27V5QMCP27T  B005S9EKCW       922008804   \n",
       "3          US     24852644  R2TOH2QKNK4IOC  B00FC1ZCB4       326560548   \n",
       "4          US     15556113  R2XQG5NJ59UFMY  B002ZG98Z0       637495038   \n",
       "\n",
       "                                       product_title product_category  \\\n",
       "0  Yoga for Movement Disorders DVD: Rebuilding St...        Video DVD   \n",
       "1                                 Something Borrowed        Video DVD   \n",
       "2                    Les Miserables (2012) [Blu-ray]        Video DVD   \n",
       "3    Alien Anthology and Prometheus Bundle [Blu-ray]        Video DVD   \n",
       "4                                 Sex and the City 2        Video DVD   \n",
       "\n",
       "   star_rating  helpful_votes  total_votes vine verified_purchase  \\\n",
       "0          5.0            3.0          3.0    N                 Y   \n",
       "1          5.0            0.0          0.0    N                 Y   \n",
       "2          5.0            1.0          1.0    N                 Y   \n",
       "3          5.0            0.0          1.0    N                 Y   \n",
       "4          5.0            0.0          0.0    N                 Y   \n",
       "\n",
       "                                     review_headline  \\\n",
       "0  This was a gift for my aunt who has Parkinson'...   \n",
       "1                                         Five Stars   \n",
       "2                                       Great movie!   \n",
       "3                                            Amazing   \n",
       "4                                         Five Stars   \n",
       "\n",
       "                                         review_body review_date  \n",
       "0  This was a gift for my aunt who has Parkinson'...  2015-08-31  \n",
       "1                                Teats my heart out.  2015-08-31  \n",
       "2                                       Great movie.  2015-08-31  \n",
       "3  My husband was so excited to receive these as ...  2015-08-31  \n",
       "4                                  Love this series.  2015-08-31  "
      ]
     },
     "execution_count": 37,
     "metadata": {},
     "output_type": "execute_result"
    }
   ],
   "source": [
    "data.head()"
   ]
  },
  {
   "cell_type": "markdown",
   "id": "2a36cdad",
   "metadata": {},
   "source": [
    "## Deskriptif Statistik untuk atribut numerikal\n"
   ]
  },
  {
   "cell_type": "code",
   "execution_count": 42,
   "id": "0d9a39ea",
   "metadata": {},
   "outputs": [
    {
     "data": {
      "text/html": [
       "<div>\n",
       "<style scoped>\n",
       "    .dataframe tbody tr th:only-of-type {\n",
       "        vertical-align: middle;\n",
       "    }\n",
       "\n",
       "    .dataframe tbody tr th {\n",
       "        vertical-align: top;\n",
       "    }\n",
       "\n",
       "    .dataframe thead th {\n",
       "        text-align: right;\n",
       "    }\n",
       "</style>\n",
       "<table border=\"1\" class=\"dataframe\">\n",
       "  <thead>\n",
       "    <tr style=\"text-align: right;\">\n",
       "      <th></th>\n",
       "      <th>customer_id</th>\n",
       "      <th>product_parent</th>\n",
       "      <th>star_rating</th>\n",
       "      <th>helpful_votes</th>\n",
       "      <th>total_votes</th>\n",
       "    </tr>\n",
       "  </thead>\n",
       "  <tbody>\n",
       "    <tr>\n",
       "      <th>count</th>\n",
       "      <td>5.049291e+06</td>\n",
       "      <td>5.049291e+06</td>\n",
       "      <td>5.049287e+06</td>\n",
       "      <td>5.049287e+06</td>\n",
       "      <td>5.049287e+06</td>\n",
       "    </tr>\n",
       "    <tr>\n",
       "      <th>mean</th>\n",
       "      <td>3.094148e+07</td>\n",
       "      <td>4.998088e+08</td>\n",
       "      <td>4.301129e+00</td>\n",
       "      <td>2.964645e+00</td>\n",
       "      <td>4.562956e+00</td>\n",
       "    </tr>\n",
       "    <tr>\n",
       "      <th>std</th>\n",
       "      <td>1.524062e+07</td>\n",
       "      <td>2.882336e+08</td>\n",
       "      <td>1.181560e+00</td>\n",
       "      <td>1.911466e+01</td>\n",
       "      <td>2.204417e+01</td>\n",
       "    </tr>\n",
       "    <tr>\n",
       "      <th>min</th>\n",
       "      <td>1.000100e+04</td>\n",
       "      <td>1.658000e+03</td>\n",
       "      <td>1.000000e+00</td>\n",
       "      <td>0.000000e+00</td>\n",
       "      <td>0.000000e+00</td>\n",
       "    </tr>\n",
       "    <tr>\n",
       "      <th>25%</th>\n",
       "      <td>1.667348e+07</td>\n",
       "      <td>2.494515e+08</td>\n",
       "      <td>4.000000e+00</td>\n",
       "      <td>0.000000e+00</td>\n",
       "      <td>0.000000e+00</td>\n",
       "    </tr>\n",
       "    <tr>\n",
       "      <th>50%</th>\n",
       "      <td>3.171011e+07</td>\n",
       "      <td>5.020783e+08</td>\n",
       "      <td>5.000000e+00</td>\n",
       "      <td>0.000000e+00</td>\n",
       "      <td>1.000000e+00</td>\n",
       "    </tr>\n",
       "    <tr>\n",
       "      <th>75%</th>\n",
       "      <td>4.522751e+07</td>\n",
       "      <td>7.515318e+08</td>\n",
       "      <td>5.000000e+00</td>\n",
       "      <td>2.000000e+00</td>\n",
       "      <td>4.000000e+00</td>\n",
       "    </tr>\n",
       "    <tr>\n",
       "      <th>max</th>\n",
       "      <td>5.309659e+07</td>\n",
       "      <td>9.999959e+08</td>\n",
       "      <td>5.000000e+00</td>\n",
       "      <td>2.092800e+04</td>\n",
       "      <td>2.298200e+04</td>\n",
       "    </tr>\n",
       "  </tbody>\n",
       "</table>\n",
       "</div>"
      ],
      "text/plain": [
       "        customer_id  product_parent   star_rating  helpful_votes   total_votes\n",
       "count  5.049291e+06    5.049291e+06  5.049287e+06   5.049287e+06  5.049287e+06\n",
       "mean   3.094148e+07    4.998088e+08  4.301129e+00   2.964645e+00  4.562956e+00\n",
       "std    1.524062e+07    2.882336e+08  1.181560e+00   1.911466e+01  2.204417e+01\n",
       "min    1.000100e+04    1.658000e+03  1.000000e+00   0.000000e+00  0.000000e+00\n",
       "25%    1.667348e+07    2.494515e+08  4.000000e+00   0.000000e+00  0.000000e+00\n",
       "50%    3.171011e+07    5.020783e+08  5.000000e+00   0.000000e+00  1.000000e+00\n",
       "75%    4.522751e+07    7.515318e+08  5.000000e+00   2.000000e+00  4.000000e+00\n",
       "max    5.309659e+07    9.999959e+08  5.000000e+00   2.092800e+04  2.298200e+04"
      ]
     },
     "execution_count": 42,
     "metadata": {},
     "output_type": "execute_result"
    }
   ],
   "source": [
    "# deskriptif statistik untuk data latih\n",
    "data[numerical_columns].describe()"
   ]
  },
  {
   "cell_type": "markdown",
   "id": "ccece337",
   "metadata": {},
   "source": [
    "## Mengetahui jumlah data untuk masing-masing katagori"
   ]
  },
  {
   "cell_type": "code",
   "execution_count": 45,
   "id": "5902b240",
   "metadata": {},
   "outputs": [
    {
     "data": {
      "text/html": [
       "<div>\n",
       "<style scoped>\n",
       "    .dataframe tbody tr th:only-of-type {\n",
       "        vertical-align: middle;\n",
       "    }\n",
       "\n",
       "    .dataframe tbody tr th {\n",
       "        vertical-align: top;\n",
       "    }\n",
       "\n",
       "    .dataframe thead th {\n",
       "        text-align: right;\n",
       "    }\n",
       "</style>\n",
       "<table border=\"1\" class=\"dataframe\">\n",
       "  <thead>\n",
       "    <tr style=\"text-align: right;\">\n",
       "      <th></th>\n",
       "      <th>marketplace</th>\n",
       "      <th>customer_id</th>\n",
       "      <th>review_id</th>\n",
       "      <th>product_id</th>\n",
       "      <th>product_parent</th>\n",
       "      <th>product_title</th>\n",
       "      <th>product_category</th>\n",
       "      <th>star_rating</th>\n",
       "      <th>helpful_votes</th>\n",
       "      <th>total_votes</th>\n",
       "      <th>vine</th>\n",
       "      <th>review_headline</th>\n",
       "      <th>review_body</th>\n",
       "      <th>review_date</th>\n",
       "    </tr>\n",
       "    <tr>\n",
       "      <th>verified_purchase</th>\n",
       "      <th></th>\n",
       "      <th></th>\n",
       "      <th></th>\n",
       "      <th></th>\n",
       "      <th></th>\n",
       "      <th></th>\n",
       "      <th></th>\n",
       "      <th></th>\n",
       "      <th></th>\n",
       "      <th></th>\n",
       "      <th></th>\n",
       "      <th></th>\n",
       "      <th></th>\n",
       "      <th></th>\n",
       "    </tr>\n",
       "  </thead>\n",
       "  <tbody>\n",
       "    <tr>\n",
       "      <th>N</th>\n",
       "      <td>1750697</td>\n",
       "      <td>1750697</td>\n",
       "      <td>1750697</td>\n",
       "      <td>1750697</td>\n",
       "      <td>1750697</td>\n",
       "      <td>1750697</td>\n",
       "      <td>1750697</td>\n",
       "      <td>1750697</td>\n",
       "      <td>1750697</td>\n",
       "      <td>1750697</td>\n",
       "      <td>1750697</td>\n",
       "      <td>1750665</td>\n",
       "      <td>1750694</td>\n",
       "      <td>1750447</td>\n",
       "    </tr>\n",
       "    <tr>\n",
       "      <th>Y</th>\n",
       "      <td>3298590</td>\n",
       "      <td>3298590</td>\n",
       "      <td>3298590</td>\n",
       "      <td>3298590</td>\n",
       "      <td>3298590</td>\n",
       "      <td>3298590</td>\n",
       "      <td>3298590</td>\n",
       "      <td>3298590</td>\n",
       "      <td>3298590</td>\n",
       "      <td>3298590</td>\n",
       "      <td>3298590</td>\n",
       "      <td>3298553</td>\n",
       "      <td>3298566</td>\n",
       "      <td>3298408</td>\n",
       "    </tr>\n",
       "  </tbody>\n",
       "</table>\n",
       "</div>"
      ],
      "text/plain": [
       "                   marketplace  customer_id  review_id  product_id  \\\n",
       "verified_purchase                                                    \n",
       "N                      1750697      1750697    1750697     1750697   \n",
       "Y                      3298590      3298590    3298590     3298590   \n",
       "\n",
       "                   product_parent  product_title  product_category  \\\n",
       "verified_purchase                                                    \n",
       "N                         1750697        1750697           1750697   \n",
       "Y                         3298590        3298590           3298590   \n",
       "\n",
       "                   star_rating  helpful_votes  total_votes     vine  \\\n",
       "verified_purchase                                                     \n",
       "N                      1750697        1750697      1750697  1750697   \n",
       "Y                      3298590        3298590      3298590  3298590   \n",
       "\n",
       "                   review_headline  review_body  review_date  \n",
       "verified_purchase                                             \n",
       "N                          1750665      1750694      1750447  \n",
       "Y                          3298553      3298566      3298408  "
      ]
     },
     "execution_count": 45,
     "metadata": {},
     "output_type": "execute_result"
    }
   ],
   "source": [
    "data.groupby('verified_purchase').count()"
   ]
  },
  {
   "cell_type": "code",
   "execution_count": 46,
   "id": "65e721d5",
   "metadata": {},
   "outputs": [
    {
     "data": {
      "text/html": [
       "<div>\n",
       "<style scoped>\n",
       "    .dataframe tbody tr th:only-of-type {\n",
       "        vertical-align: middle;\n",
       "    }\n",
       "\n",
       "    .dataframe tbody tr th {\n",
       "        vertical-align: top;\n",
       "    }\n",
       "\n",
       "    .dataframe thead th {\n",
       "        text-align: right;\n",
       "    }\n",
       "</style>\n",
       "<table border=\"1\" class=\"dataframe\">\n",
       "  <thead>\n",
       "    <tr style=\"text-align: right;\">\n",
       "      <th></th>\n",
       "      <th>marketplace</th>\n",
       "      <th>customer_id</th>\n",
       "      <th>review_id</th>\n",
       "      <th>product_id</th>\n",
       "      <th>product_parent</th>\n",
       "      <th>product_title</th>\n",
       "      <th>star_rating</th>\n",
       "      <th>helpful_votes</th>\n",
       "      <th>total_votes</th>\n",
       "      <th>vine</th>\n",
       "      <th>verified_purchase</th>\n",
       "      <th>review_headline</th>\n",
       "      <th>review_body</th>\n",
       "      <th>review_date</th>\n",
       "    </tr>\n",
       "    <tr>\n",
       "      <th>product_category</th>\n",
       "      <th></th>\n",
       "      <th></th>\n",
       "      <th></th>\n",
       "      <th></th>\n",
       "      <th></th>\n",
       "      <th></th>\n",
       "      <th></th>\n",
       "      <th></th>\n",
       "      <th></th>\n",
       "      <th></th>\n",
       "      <th></th>\n",
       "      <th></th>\n",
       "      <th></th>\n",
       "      <th></th>\n",
       "    </tr>\n",
       "  </thead>\n",
       "  <tbody>\n",
       "    <tr>\n",
       "      <th>2004-05-05</th>\n",
       "      <td>1</td>\n",
       "      <td>1</td>\n",
       "      <td>1</td>\n",
       "      <td>1</td>\n",
       "      <td>1</td>\n",
       "      <td>1</td>\n",
       "      <td>0</td>\n",
       "      <td>0</td>\n",
       "      <td>0</td>\n",
       "      <td>0</td>\n",
       "      <td>0</td>\n",
       "      <td>0</td>\n",
       "      <td>0</td>\n",
       "      <td>0</td>\n",
       "    </tr>\n",
       "    <tr>\n",
       "      <th>2005-05-21</th>\n",
       "      <td>1</td>\n",
       "      <td>1</td>\n",
       "      <td>1</td>\n",
       "      <td>1</td>\n",
       "      <td>1</td>\n",
       "      <td>1</td>\n",
       "      <td>0</td>\n",
       "      <td>0</td>\n",
       "      <td>0</td>\n",
       "      <td>0</td>\n",
       "      <td>0</td>\n",
       "      <td>0</td>\n",
       "      <td>0</td>\n",
       "      <td>0</td>\n",
       "    </tr>\n",
       "    <tr>\n",
       "      <th>2012-01-09</th>\n",
       "      <td>1</td>\n",
       "      <td>1</td>\n",
       "      <td>1</td>\n",
       "      <td>1</td>\n",
       "      <td>1</td>\n",
       "      <td>1</td>\n",
       "      <td>0</td>\n",
       "      <td>0</td>\n",
       "      <td>0</td>\n",
       "      <td>0</td>\n",
       "      <td>0</td>\n",
       "      <td>0</td>\n",
       "      <td>0</td>\n",
       "      <td>0</td>\n",
       "    </tr>\n",
       "    <tr>\n",
       "      <th>2013-02-09</th>\n",
       "      <td>1</td>\n",
       "      <td>1</td>\n",
       "      <td>1</td>\n",
       "      <td>1</td>\n",
       "      <td>1</td>\n",
       "      <td>1</td>\n",
       "      <td>0</td>\n",
       "      <td>0</td>\n",
       "      <td>0</td>\n",
       "      <td>0</td>\n",
       "      <td>0</td>\n",
       "      <td>0</td>\n",
       "      <td>0</td>\n",
       "      <td>0</td>\n",
       "    </tr>\n",
       "    <tr>\n",
       "      <th>Video DVD</th>\n",
       "      <td>5049287</td>\n",
       "      <td>5049287</td>\n",
       "      <td>5049287</td>\n",
       "      <td>5049287</td>\n",
       "      <td>5049287</td>\n",
       "      <td>5049287</td>\n",
       "      <td>5049287</td>\n",
       "      <td>5049287</td>\n",
       "      <td>5049287</td>\n",
       "      <td>5049287</td>\n",
       "      <td>5049287</td>\n",
       "      <td>5049218</td>\n",
       "      <td>5049260</td>\n",
       "      <td>5048855</td>\n",
       "    </tr>\n",
       "  </tbody>\n",
       "</table>\n",
       "</div>"
      ],
      "text/plain": [
       "                  marketplace  customer_id  review_id  product_id  \\\n",
       "product_category                                                    \n",
       "2004-05-05                  1            1          1           1   \n",
       "2005-05-21                  1            1          1           1   \n",
       "2012-01-09                  1            1          1           1   \n",
       "2013-02-09                  1            1          1           1   \n",
       "Video DVD             5049287      5049287    5049287     5049287   \n",
       "\n",
       "                  product_parent  product_title  star_rating  helpful_votes  \\\n",
       "product_category                                                              \n",
       "2004-05-05                     1              1            0              0   \n",
       "2005-05-21                     1              1            0              0   \n",
       "2012-01-09                     1              1            0              0   \n",
       "2013-02-09                     1              1            0              0   \n",
       "Video DVD                5049287        5049287      5049287        5049287   \n",
       "\n",
       "                  total_votes     vine  verified_purchase  review_headline  \\\n",
       "product_category                                                             \n",
       "2004-05-05                  0        0                  0                0   \n",
       "2005-05-21                  0        0                  0                0   \n",
       "2012-01-09                  0        0                  0                0   \n",
       "2013-02-09                  0        0                  0                0   \n",
       "Video DVD             5049287  5049287            5049287          5049218   \n",
       "\n",
       "                  review_body  review_date  \n",
       "product_category                            \n",
       "2004-05-05                  0            0  \n",
       "2005-05-21                  0            0  \n",
       "2012-01-09                  0            0  \n",
       "2013-02-09                  0            0  \n",
       "Video DVD             5049260      5048855  "
      ]
     },
     "execution_count": 46,
     "metadata": {},
     "output_type": "execute_result"
    }
   ],
   "source": [
    "data.groupby('product_category').count()"
   ]
  },
  {
   "cell_type": "markdown",
   "id": "897327cd",
   "metadata": {},
   "source": [
    "dari sini terlihat ada data yang tidak sesuai dan harus di cleansing"
   ]
  },
  {
   "cell_type": "markdown",
   "id": "d7c9e112",
   "metadata": {},
   "source": [
    "# Cleansing Data\n",
    "\n",
    "### Memastikan tidak ada missing values pada Kolom Kategorikal\n",
    "--------------------------------------------\n",
    "Pada keterangan dataset yang dilampirkan, missing values pada data ditandai dengan label \"unknown\" pada beberapa kolom dengan tipe kategorikal. Oleh karena, kolom kategorikal yang memuat label \"unknown\" akan diganti menjadi nan untuk menandai adanya missing values (unstandard missing values)"
   ]
  },
  {
   "cell_type": "code",
   "execution_count": 47,
   "id": "8d41e932",
   "metadata": {},
   "outputs": [
    {
     "data": {
      "text/plain": [
       "review_headline      8\n",
       "marketplace          0\n",
       "customer_id          0\n",
       "review_id            0\n",
       "product_id           0\n",
       "product_parent       0\n",
       "product_title        0\n",
       "product_category     0\n",
       "star_rating          0\n",
       "helpful_votes        0\n",
       "total_votes          0\n",
       "vine                 0\n",
       "verified_purchase    0\n",
       "review_body          0\n",
       "review_date          0\n",
       "dtype: int64"
      ]
     },
     "execution_count": 47,
     "metadata": {},
     "output_type": "execute_result"
    }
   ],
   "source": [
    "# Mengetahui jumlah \"unknown\" di setiap atribut\n",
    "data[\n",
    "    data[categorical_columns]=='unknown'\n",
    "].count().sort_values(ascending=False)"
   ]
  },
  {
   "cell_type": "markdown",
   "id": "3cb7a2aa",
   "metadata": {},
   "source": [
    " review_headline menjadi kolom kategorikal yang banyak mengandung missing values"
   ]
  },
  {
   "cell_type": "code",
   "execution_count": 48,
   "id": "8e932112",
   "metadata": {},
   "outputs": [],
   "source": [
    "# Mengganti \"unknown\" pada data latih\n",
    "data[\n",
    "    data[categorical_columns]==\"unknown\"\n",
    "] = np.nan"
   ]
  },
  {
   "cell_type": "code",
   "execution_count": 49,
   "id": "08b3204b",
   "metadata": {},
   "outputs": [
    {
     "data": {
      "text/plain": [
       "marketplace          0\n",
       "customer_id          0\n",
       "review_id            0\n",
       "product_id           0\n",
       "product_parent       0\n",
       "product_title        0\n",
       "product_category     0\n",
       "star_rating          0\n",
       "helpful_votes        0\n",
       "total_votes          0\n",
       "vine                 0\n",
       "verified_purchase    0\n",
       "review_headline      0\n",
       "review_body          0\n",
       "review_date          0\n",
       "dtype: int64"
      ]
     },
     "execution_count": 49,
     "metadata": {},
     "output_type": "execute_result"
    }
   ],
   "source": [
    "# Mengetahui jumlah \"unknown\" di setiap atribut\n",
    "data[\n",
    "    data[categorical_columns]=='unknown'\n",
    "].count().sort_values(ascending=False)"
   ]
  },
  {
   "cell_type": "code",
   "execution_count": 50,
   "id": "cdfa154a",
   "metadata": {},
   "outputs": [
    {
     "name": "stdout",
     "output_type": "stream",
     "text": [
      "Nilai unik untuk kolom  MARKETPLACE\n",
      "['US']\n",
      "==============================\n",
      "Nilai unik untuk kolom  REVIEW_ID\n",
      "['R33UPQQUZQEM8' 'R3IKTNQQPD9662' 'R3U27V5QMCP27T' ... 'R3UIB7DM8VZSR8'\n",
      " 'R2YTBM6RDVNS4F' 'R5GBJG2FG9B6U']\n",
      "==============================\n",
      "Nilai unik untuk kolom  PRODUCT_ID\n",
      "['B005T4ND06' 'B004EPZ070' 'B005S9EKCW' ... '6302459060' '6303593569'\n",
      " '6302275806']\n",
      "==============================\n",
      "Nilai unik untuk kolom  PRODUCT_TITLE\n",
      "[\"Yoga for Movement Disorders DVD: Rebuilding Strength, Balance, and Flexibility for Parkinson's Disease and Dystonia\"\n",
      " 'Something Borrowed' 'Les Miserables (2012) [Blu-ray]' ...\n",
      " 'Passages of Marriage'\n",
      " \"The Films of Merchant Ivory (James Ivory's The Europeans)\"\n",
      " 'Steadfast Tin Soldier']\n",
      "==============================\n",
      "Nilai unik untuk kolom  PRODUCT_CATEGORY\n",
      "['Video DVD' '2013-02-09' '2012-01-09' '2005-05-21' '2004-05-05']\n",
      "==============================\n",
      "Nilai unik untuk kolom  VINE\n",
      "['N' 'Y' nan]\n",
      "==============================\n",
      "Nilai unik untuk kolom  VERIFIED_PURCHASE\n",
      "['Y' 'N' nan]\n",
      "==============================\n",
      "Nilai unik untuk kolom  REVIEW_HEADLINE\n",
      "[\"This was a gift for my aunt who has Parkinson's ...\" 'Five Stars'\n",
      " 'Great movie!' ...\n",
      " 'Deals with many new subplots, but lacks &quot;Halloween&quot; feeling.'\n",
      " 'Style and profile with the Nature Boy!' '<P>Full sensory overload! <P>']\n",
      "==============================\n",
      "Nilai unik untuk kolom  REVIEW_BODY\n",
      "[\"This was a gift for my aunt who has Parkinson's.  While I have not previewed it myself, I also have not gotten any complaints.  My prior experiences with yoga tell me this should be just what the doctor ordered.\"\n",
      " 'Teats my heart out.' 'Great movie.' ...\n",
      " 'This one picks up a year later where the last one left off. After a year, young Jamie is living in a clinic, unable to speak, the result of the prior Halloween night. As her step-sister, Rachel, and her friends are murdered, Jamie is forced to take a stand, alongside old friend Dr.Loomis. As the story takes place, a mysterious &quot;Man in Black&quot; appears, showing a dark side to his nature and once again preventing ultimate peace in the tortured town of Haddonfield. END'\n",
      " \"This is a video about &quot;the man&quot;, Ric Flair, self-  proclaimed &quot;Nature Boy&quot; of professional wrestling. In several  interviews Ric talks about the early days, the plane crash   that almost ended his career, and his various title reigns.   Others interviewed include Dusty Rhodes, and Arn Anderson.   Included are rare photos of Ric's childhood and two of his   greatest matches - against Harley Race, and Vader. &quot;Whooo,   to be the man, you have to be the man!&quot;  END\"\n",
      " \"Capturing a night of Terence Mckenna speaking at a Rave,  Alien Dreamtime is a mind blowing experience.  As Terence raps, and the music flows, Rose X mixes    hallucinatory images in a symbolic logic that the    initiated and uninitiated can enjoy. Anyone who has    heard only the censored(!) audio CD from this    event is missing out.<br />      Covering topics from sacred planets, the three M's,    and DMT elves, Alien Dreamtime is at bottom line an   instructional video on life.<br />  END\"]\n",
      "==============================\n",
      "Nilai unik untuk kolom  REVIEW_DATE\n",
      "['2015-08-31' nan '2015-08-30' ... '1996-12-09' '1996-09-29' '1996-07-08']\n",
      "==============================\n"
     ]
    }
   ],
   "source": [
    "# Mencetak semua nilai unik pada masing-masing kolom kategori\n",
    "for cat_col in categorical_columns:\n",
    "    print(\"Nilai unik untuk kolom \", cat_col.upper())\n",
    "    print(data[cat_col].unique())\n",
    "    print('='*30)"
   ]
  },
  {
   "cell_type": "code",
   "execution_count": 57,
   "id": "793ad2b3",
   "metadata": {},
   "outputs": [],
   "source": [
    "# mengganti nilai uniq pada PRODUCT_CATEGORY\n",
    "data['product_category'].replace('2005-05-21','Video DVD',inplace=True)\n",
    "data['product_category'].replace('2013-02-09','Video DVD',inplace=True)\n",
    "data['product_category'].replace('2012-01-09','Video DVD',inplace=True)\n",
    "data['product_category'].replace('2004-05-05','Video DVD',inplace=True)"
   ]
  },
  {
   "cell_type": "code",
   "execution_count": 62,
   "id": "b744bed2",
   "metadata": {},
   "outputs": [
    {
     "name": "stdout",
     "output_type": "stream",
     "text": [
      "Nilai unik untuk kolom  MARKETPLACE\n",
      "['US']\n",
      "--------------------------------------------------------------------------------\n",
      "Nilai unik untuk kolom  REVIEW_ID\n",
      "['R33UPQQUZQEM8' 'R3IKTNQQPD9662' 'R3U27V5QMCP27T' ... 'R3UIB7DM8VZSR8'\n",
      " 'R2YTBM6RDVNS4F' 'R5GBJG2FG9B6U']\n",
      "--------------------------------------------------------------------------------\n",
      "Nilai unik untuk kolom  PRODUCT_ID\n",
      "['B005T4ND06' 'B004EPZ070' 'B005S9EKCW' ... '6302459060' '6303593569'\n",
      " '6302275806']\n",
      "--------------------------------------------------------------------------------\n",
      "Nilai unik untuk kolom  PRODUCT_TITLE\n",
      "[\"Yoga for Movement Disorders DVD: Rebuilding Strength, Balance, and Flexibility for Parkinson's Disease and Dystonia\"\n",
      " 'Something Borrowed' 'Les Miserables (2012) [Blu-ray]' ...\n",
      " 'Passages of Marriage'\n",
      " \"The Films of Merchant Ivory (James Ivory's The Europeans)\"\n",
      " 'Steadfast Tin Soldier']\n",
      "--------------------------------------------------------------------------------\n",
      "Nilai unik untuk kolom  PRODUCT_CATEGORY\n",
      "['Video DVD']\n",
      "--------------------------------------------------------------------------------\n",
      "Nilai unik untuk kolom  VINE\n",
      "['N' 'Y' nan]\n",
      "--------------------------------------------------------------------------------\n",
      "Nilai unik untuk kolom  VERIFIED_PURCHASE\n",
      "['Y' 'N' nan]\n",
      "--------------------------------------------------------------------------------\n",
      "Nilai unik untuk kolom  REVIEW_HEADLINE\n",
      "[\"This was a gift for my aunt who has Parkinson's ...\" 'Five Stars'\n",
      " 'Great movie!' ...\n",
      " 'Deals with many new subplots, but lacks &quot;Halloween&quot; feeling.'\n",
      " 'Style and profile with the Nature Boy!' '<P>Full sensory overload! <P>']\n",
      "--------------------------------------------------------------------------------\n",
      "Nilai unik untuk kolom  REVIEW_BODY\n",
      "[\"This was a gift for my aunt who has Parkinson's.  While I have not previewed it myself, I also have not gotten any complaints.  My prior experiences with yoga tell me this should be just what the doctor ordered.\"\n",
      " 'Teats my heart out.' 'Great movie.' ...\n",
      " 'This one picks up a year later where the last one left off. After a year, young Jamie is living in a clinic, unable to speak, the result of the prior Halloween night. As her step-sister, Rachel, and her friends are murdered, Jamie is forced to take a stand, alongside old friend Dr.Loomis. As the story takes place, a mysterious &quot;Man in Black&quot; appears, showing a dark side to his nature and once again preventing ultimate peace in the tortured town of Haddonfield. END'\n",
      " \"This is a video about &quot;the man&quot;, Ric Flair, self-  proclaimed &quot;Nature Boy&quot; of professional wrestling. In several  interviews Ric talks about the early days, the plane crash   that almost ended his career, and his various title reigns.   Others interviewed include Dusty Rhodes, and Arn Anderson.   Included are rare photos of Ric's childhood and two of his   greatest matches - against Harley Race, and Vader. &quot;Whooo,   to be the man, you have to be the man!&quot;  END\"\n",
      " \"Capturing a night of Terence Mckenna speaking at a Rave,  Alien Dreamtime is a mind blowing experience.  As Terence raps, and the music flows, Rose X mixes    hallucinatory images in a symbolic logic that the    initiated and uninitiated can enjoy. Anyone who has    heard only the censored(!) audio CD from this    event is missing out.<br />      Covering topics from sacred planets, the three M's,    and DMT elves, Alien Dreamtime is at bottom line an   instructional video on life.<br />  END\"]\n",
      "--------------------------------------------------------------------------------\n",
      "Nilai unik untuk kolom  REVIEW_DATE\n",
      "['2015-08-31' nan '2015-08-30' ... '1996-12-09' '1996-09-29' '1996-07-08']\n",
      "--------------------------------------------------------------------------------\n"
     ]
    }
   ],
   "source": [
    "# Mencetak semua nilai unik pada masing-masing kolom kategori\n",
    "for cat_col in categorical_columns:\n",
    "    print(\"Nilai unik untuk kolom \", cat_col.upper())\n",
    "    print(data[cat_col].unique())\n",
    "    print('--'*40)"
   ]
  },
  {
   "cell_type": "code",
   "execution_count": 63,
   "id": "7b7c21f2",
   "metadata": {},
   "outputs": [
    {
     "name": "stdout",
     "output_type": "stream",
     "text": [
      "Nilai unik untuk kolom  CUSTOMER_ID\n",
      "[27288431 13722556 20381037 ... 53050813 53068969 53087071]\n",
      "==============================\n",
      "Nilai unik untuk kolom  PRODUCT_PARENT\n",
      "[400024643 685335564 922008804 ... 791383040 378312266 240491966]\n",
      "==============================\n",
      "Nilai unik untuk kolom  STAR_RATING\n",
      "[ 5.  4.  1.  3.  2. nan]\n",
      "==============================\n",
      "Nilai unik untuk kolom  HELPFUL_VOTES\n",
      "[3.0000e+00 0.0000e+00 1.0000e+00 2.0000e+00 4.0000e+00 8.0000e+00\n",
      " 7.0000e+00 9.0000e+00 3.2000e+01 1.2000e+01 6.0000e+00 3.5000e+01\n",
      " 1.3900e+02 5.0000e+00 1.1000e+01 1.6000e+01 1.5000e+01 1.7000e+01\n",
      " 9.5000e+01 4.2000e+01 1.0000e+01 5.3000e+01 2.6000e+01 3.0000e+01\n",
      " 2.2000e+01 3.8000e+01 4.0000e+01 2.9000e+01 8.4000e+01 3.4000e+01\n",
      " 2.4000e+01 2.1000e+01 2.5000e+01 1.9000e+01 4.4000e+01 1.3000e+01\n",
      " 1.4000e+01 5.4000e+01 6.7000e+01 7.4000e+01 1.4400e+02 6.2500e+02\n",
      " 5.7000e+01 2.3000e+01 9.8000e+01 2.0000e+01 1.2800e+02 5.8000e+01\n",
      " 5.5000e+01 1.8000e+01 2.7000e+01 2.8000e+01 1.0000e+02 7.1000e+01\n",
      " 7.2000e+01 5.2000e+01 3.1000e+01 6.9000e+01 3.3000e+01 3.6000e+01\n",
      " 1.7500e+02 1.1500e+02 4.3000e+01 1.7400e+02 4.9000e+01 5.1000e+01\n",
      " 4.1000e+01 5.9000e+01 1.8700e+02 7.6000e+01 4.6000e+01 1.2700e+02\n",
      " 3.9000e+01 3.7000e+01 1.5800e+02 4.5000e+01 6.2000e+01 9.3000e+01\n",
      " 8.6000e+01 1.1200e+02 9.7000e+01 8.1000e+01 1.6400e+02 8.7000e+01\n",
      " 1.7100e+02 6.0000e+01 8.3000e+01 7.7000e+01 8.5000e+01 4.8000e+01\n",
      " 1.5300e+02 6.5000e+01 1.0500e+02 1.1300e+02 1.0700e+02 1.5100e+02\n",
      " 1.3400e+02 2.0200e+02 2.1600e+02 7.7700e+02 5.6000e+01 1.0100e+02\n",
      " 1.8000e+02 5.0000e+01 6.1000e+01 1.8400e+02 4.7000e+01 7.3000e+01\n",
      " 9.2000e+01 1.3480e+03 9.6000e+01 6.8000e+01 8.2000e+01 3.6800e+02\n",
      " 6.4000e+01 7.5000e+01 1.6300e+02 1.4700e+02 1.5500e+02 1.7000e+02\n",
      " 1.0200e+02 1.6000e+02 6.3000e+01 1.8600e+02 3.3500e+02 7.0000e+02\n",
      " 1.2500e+02 1.3800e+02 1.0800e+02 2.4200e+02 1.3600e+02 3.0000e+02\n",
      " 8.9000e+01 7.9000e+01 6.6000e+01 2.2100e+02 7.8000e+01 5.8300e+02\n",
      " 1.6800e+02 1.3200e+02 1.1400e+02 1.1100e+02 8.8000e+01 1.2200e+02\n",
      " 1.0900e+02 4.1100e+02 9.4000e+01 8.0000e+01 1.6600e+02 2.4100e+02\n",
      " 2.1900e+02 9.9000e+01 1.3300e+02 2.1400e+02 1.1900e+02 1.0400e+02\n",
      " 2.7500e+02 1.6200e+02 4.3000e+02 1.4100e+02 1.1600e+02 1.2100e+02\n",
      " 7.0000e+01 1.0300e+02 1.9600e+02 1.7700e+02 1.2900e+02 2.3700e+02\n",
      " 2.4300e+02 1.0600e+02 1.8500e+02 1.8200e+02 9.0000e+01 1.2000e+02\n",
      " 2.3400e+02 1.5200e+02 2.1200e+02 3.6200e+02 2.1300e+02 1.3100e+02\n",
      " 1.7600e+02 4.1600e+02 1.6700e+02 1.5000e+02 2.0700e+02 2.6100e+02\n",
      " 1.1800e+02 3.6300e+02 9.1000e+01 1.4000e+02 1.9500e+02 1.1700e+02\n",
      " 9.0300e+02 2.0100e+02 1.6100e+02 2.1000e+02 4.4700e+02 3.5500e+02\n",
      " 2.2300e+02 1.1000e+02 1.3000e+02 1.0230e+03 1.2400e+02 1.2300e+02\n",
      " 6.1700e+02 2.8200e+02 6.9900e+02 7.5200e+02 1.2600e+02 2.3100e+02\n",
      " 1.9300e+02 5.3300e+02 2.4400e+02 1.6500e+02 2.0500e+02 9.8900e+02\n",
      " 2.8800e+02 4.3600e+02 3.0300e+02 4.2000e+02 4.3300e+02 2.9800e+02\n",
      " 7.1100e+02 8.6100e+02 5.5300e+02 2.2400e+02 1.4300e+02 3.8600e+02\n",
      " 2.5400e+02 1.5600e+02 1.2180e+03 5.9300e+02 3.2600e+02 4.3100e+02\n",
      " 2.6600e+02 8.7100e+02 1.3500e+02 1.3700e+02 3.0500e+02 2.0900e+02\n",
      " 2.3600e+02 3.2800e+02 2.2700e+02 2.0300e+02 1.7900e+02 2.8300e+02\n",
      " 2.7900e+02 2.2200e+02 2.7600e+02 3.9500e+02 3.4100e+02 1.4500e+02\n",
      " 2.7000e+02 1.9200e+02 3.0100e+02 1.6900e+02 1.5700e+02 1.7800e+02\n",
      " 1.7320e+03 2.0400e+02 2.6900e+02 2.5800e+02 3.1000e+02 5.5400e+02\n",
      " 1.8300e+02 1.8900e+02 5.2500e+02 4.6600e+02 1.4900e+02 3.3400e+02\n",
      " 3.0900e+02 3.2500e+02 1.4600e+02 1.5400e+02 1.5900e+02 5.7200e+02\n",
      " 8.9900e+02 3.7600e+02 3.5400e+02 4.4500e+02 3.0700e+02 2.7200e+02\n",
      " 5.4500e+02 5.9700e+02 2.3800e+02 2.2800e+02 2.4600e+02 5.8100e+02\n",
      " 4.5400e+02 3.5000e+02 2.2000e+02 1.1810e+03 4.3700e+02 2.0000e+02\n",
      " 2.8700e+02 5.9600e+02 3.5700e+02 1.9400e+02 3.3300e+02 6.7100e+02\n",
      " 2.2500e+02 3.1900e+02 3.7100e+02 3.8500e+02 3.0200e+02 2.1960e+03\n",
      " 2.6300e+02 2.1100e+02 4.9300e+02 3.7500e+02 1.9100e+02 4.8300e+02\n",
      " 1.5240e+03 4.0400e+02 1.7300e+02 2.4800e+02 1.6540e+03 6.4900e+02\n",
      " 4.8500e+02 5.1840e+03 9.4600e+02 2.7400e+02 1.9000e+02 5.9500e+02\n",
      " 1.4800e+02 2.4700e+02 3.6400e+02 3.8000e+02 2.4000e+02 2.5900e+02\n",
      " 3.4300e+02 2.7100e+02 1.9800e+02 2.0800e+02 2.1800e+02 3.3700e+02\n",
      " 4.2700e+02 2.4500e+02 1.2850e+03 2.8500e+02 8.9700e+02 1.4200e+02\n",
      " 2.3000e+02 9.0400e+02 6.9200e+02 4.7600e+02 2.9300e+02 1.9900e+02\n",
      " 3.9300e+02 4.9100e+02 2.4900e+02 4.7800e+02 3.1600e+02 2.2900e+02\n",
      " 4.6900e+02 5.8600e+02 2.5200e+02 6.5300e+02 2.8600e+02 2.9000e+02\n",
      " 3.0400e+02 6.8800e+02 5.7300e+02 2.1500e+02 2.6400e+02 4.2800e+02\n",
      " 5.2000e+02 2.6800e+02 3.6100e+02 2.3500e+02 4.2500e+02 3.7000e+02\n",
      " 3.5800e+02 4.8000e+02 4.7500e+02 2.5640e+03 5.1500e+02 1.1460e+03\n",
      " 1.1080e+03 1.8800e+02 2.6500e+02 1.7200e+02 3.9100e+02 7.7800e+02\n",
      " 3.6700e+02 3.2900e+02 3.1800e+02 2.7300e+02 1.8100e+02 3.1200e+02\n",
      " 1.4910e+03 3.0800e+02 4.7300e+02 4.0300e+02 2.0600e+02 3.9600e+02\n",
      " 8.3100e+02 5.3500e+02 2.2600e+02 2.6700e+02 6.6200e+02 2.3300e+02\n",
      " 5.1700e+02 2.9700e+02 5.1400e+02 3.2700e+02 5.1100e+02 3.8200e+02\n",
      " 6.4600e+02 3.2200e+02 6.1300e+02 4.2400e+02 3.4500e+02 2.3200e+02\n",
      " 5.9000e+02 2.8000e+02 2.9100e+02 7.5700e+02 3.8400e+02 5.0100e+02\n",
      " 1.9700e+02 4.8200e+02 3.9000e+02 2.9200e+02 2.5000e+02 2.1700e+02\n",
      " 6.7500e+02 2.6200e+02 3.4000e+02 7.2700e+02 5.0200e+02 1.2540e+03\n",
      " 4.1700e+02 5.6400e+02 9.2400e+02 2.0210e+03 1.7070e+03 9.5100e+02\n",
      " 4.0700e+02 2.9500e+02 2.8900e+02 3.9800e+02 3.1500e+02 1.0270e+03\n",
      " 2.3900e+02 3.4400e+02 4.4100e+02 3.8800e+02 5.0300e+02 1.0450e+03\n",
      " 2.7800e+02 2.5100e+02 3.4600e+02 1.1170e+03 2.9600e+02 3.3100e+02\n",
      " 4.7900e+02 6.1500e+02 3.1700e+02 6.7600e+02 1.0040e+03 5.4200e+02\n",
      " 5.1000e+02 2.2560e+03 3.6000e+02 4.5700e+02 3.3000e+02 3.1100e+02\n",
      " 3.5200e+02 8.2200e+02 4.3200e+02 7.1400e+02 3.4200e+02 6.2600e+02\n",
      " 1.2770e+03 2.8400e+02 4.3690e+03 3.4700e+02 6.2400e+02        nan\n",
      " 5.5900e+02 3.2000e+02 2.7700e+02 3.3900e+02 4.3900e+02 3.7400e+02\n",
      " 2.8100e+02 6.8700e+02 4.3800e+02 5.6300e+02 8.6800e+02 4.2300e+02\n",
      " 1.2390e+03 4.8700e+02 9.6600e+02 5.0900e+02 4.4000e+02 5.0000e+02\n",
      " 3.6600e+02 8.3800e+02 6.6300e+02 6.5000e+02 3.7800e+02 5.8500e+02\n",
      " 9.7700e+02 4.1400e+02 2.9400e+02 7.9800e+02 9.6300e+02 4.8900e+02\n",
      " 1.1230e+03 9.4300e+02 9.9800e+02 9.1800e+02 4.0900e+02 7.2900e+02\n",
      " 1.3080e+03 5.2200e+02 4.0200e+02 4.4400e+02 1.0700e+03 7.7200e+02\n",
      " 5.7000e+02 5.1900e+02 3.1400e+02 9.7300e+02 3.0600e+02 6.8500e+02\n",
      " 3.9900e+02 3.4900e+02 3.8700e+02 5.4600e+02 6.9500e+02 1.9230e+03\n",
      " 5.7900e+02 1.7760e+03 4.2200e+02 3.8300e+02 4.9500e+02 4.2600e+02\n",
      " 3.2400e+02 5.2900e+02 5.4700e+02 3.6500e+02 5.8400e+02 8.2600e+02\n",
      " 4.5300e+02 4.4900e+02 9.4900e+02 5.5800e+02 1.1570e+03 8.2800e+02\n",
      " 1.3440e+03 4.5600e+02 7.1700e+02 1.1830e+03 4.5500e+02 2.3100e+03\n",
      " 5.0600e+02 5.9400e+02 4.0000e+02 4.0600e+02 7.6900e+02 2.5600e+02\n",
      " 6.0600e+02 8.5700e+02 6.9400e+02 4.0500e+02 2.9900e+02 5.8000e+02\n",
      " 5.4800e+02 2.5700e+02 5.2300e+02 4.6000e+02 5.9090e+03 5.3700e+02\n",
      " 1.8660e+03 6.6600e+02 1.5290e+03 5.1300e+02 1.9330e+03 5.3900e+02\n",
      " 3.2100e+02 8.1900e+02 9.9900e+02 5.5700e+02 2.6000e+02 4.6300e+02\n",
      " 4.6400e+02 4.4800e+02 3.0150e+03 1.3220e+03 2.8600e+03 3.3200e+02\n",
      " 3.5900e+02 4.7000e+02 4.4600e+02 2.5300e+02 4.5800e+02 3.5100e+02\n",
      " 1.0010e+03 1.4620e+03 4.0800e+02 7.4700e+02 5.1600e+02 4.9700e+02\n",
      " 3.7700e+02 5.4900e+02 4.7700e+02 5.7600e+02 5.1200e+02 6.3200e+02\n",
      " 2.6920e+03 6.0100e+02 5.6800e+02 3.3600e+02 1.5810e+03 3.1300e+02\n",
      " 6.0300e+02 1.3130e+03 1.7010e+03 2.8620e+03 3.9200e+02 5.8900e+02\n",
      " 9.4430e+03 4.2100e+02 7.8300e+02 1.9220e+03 6.0700e+02 4.9800e+02\n",
      " 9.4200e+02 3.8100e+02 7.3600e+02 7.9300e+02 1.3630e+03 6.1400e+02\n",
      " 7.4600e+02 2.5500e+02 1.3320e+03 7.3500e+02 6.0400e+02 1.5800e+03\n",
      " 8.1800e+02 3.3800e+02 4.8100e+02 2.6740e+03 3.7300e+02 3.2300e+02\n",
      " 3.8900e+02 4.3400e+03 7.9700e+02 2.1560e+03 3.7200e+02 4.5000e+02\n",
      " 4.5200e+02 5.7800e+02 5.5600e+02 4.1200e+02 8.2100e+02 1.0360e+03\n",
      " 9.3300e+02 4.1800e+02 3.6720e+03 1.1500e+03 1.6020e+03 1.9190e+03\n",
      " 5.0800e+02 5.8700e+02 7.6000e+02 1.5450e+03 5.6100e+02 8.6200e+02\n",
      " 1.4550e+03 3.9400e+02 1.0330e+03 4.7200e+02 6.6100e+02 6.3700e+02\n",
      " 5.0500e+02 9.1600e+02 4.1000e+02 7.6700e+02 6.6400e+02 5.5500e+02\n",
      " 6.9700e+02 2.0928e+04 4.9600e+02 6.2900e+02 6.7900e+02 8.2300e+02\n",
      " 4.5100e+02 1.1490e+03 1.7120e+03 6.9300e+02 6.2300e+02 1.5640e+03\n",
      " 6.3800e+02 1.7090e+03 4.1040e+03 7.0200e+02 4.2370e+03 1.9380e+03\n",
      " 2.2790e+03 8.0200e+02 4.8600e+02 7.9200e+02 4.6200e+02 1.8340e+03\n",
      " 1.3380e+03 1.1090e+03 6.8900e+02 1.3390e+03 8.7900e+02 2.1010e+03\n",
      " 3.4910e+03 4.0100e+02 6.7400e+02 5.3600e+02 9.7600e+02 5.6600e+02\n",
      " 6.9100e+02 5.9100e+02 3.4800e+02 2.0030e+03 8.6900e+02 8.7800e+02\n",
      " 6.9800e+02 2.5520e+03 1.0990e+03 1.3960e+03 3.6970e+03 4.7400e+02\n",
      " 3.7900e+02 4.8800e+02 6.6000e+02 3.5600e+02 1.0860e+03 4.9200e+02\n",
      " 5.9900e+02 6.3900e+02 7.7300e+02 3.6900e+02 1.2530e+03 1.0090e+03\n",
      " 9.7900e+02 7.3800e+02 4.4300e+02 6.4500e+02 1.2200e+03 8.8300e+02\n",
      " 3.5300e+02 6.8200e+02 8.8400e+02 7.3100e+02 7.7600e+02 1.4020e+03\n",
      " 8.3600e+02 9.7500e+02 7.8700e+02 9.0500e+02 7.1500e+02 6.2800e+02\n",
      " 7.0700e+02 5.2600e+02 6.9000e+02 5.6200e+02 1.4040e+03 1.5340e+03\n",
      " 5.2400e+02 1.2450e+03 6.3400e+02 1.0960e+03 6.7700e+02 5.3800e+02\n",
      " 7.5400e+02 6.5900e+02 4.1900e+02 3.0320e+03 8.9500e+02 1.6800e+03\n",
      " 1.0440e+03 7.0300e+02 6.2200e+02 7.6100e+02 9.3900e+02 4.6500e+02\n",
      " 4.1500e+02 9.8800e+02 8.2000e+02 4.6800e+02 1.4440e+03 8.0800e+02\n",
      " 1.0370e+03 9.0200e+02 7.0900e+02 6.7000e+02 1.0380e+03 4.3500e+02\n",
      " 5.0400e+02 9.8300e+02 5.3100e+02 1.1200e+03 1.1770e+03 7.3700e+02\n",
      " 4.8400e+02 4.1300e+02 7.6300e+02 8.2500e+02 8.0300e+02 6.6500e+02\n",
      " 5.7700e+02 7.4400e+02 2.3320e+03 6.1200e+02 4.6760e+03 4.7100e+02\n",
      " 1.0550e+03 5.4000e+02 2.1370e+03 6.4300e+02 5.1800e+02 4.5900e+02\n",
      " 6.0800e+02 7.4100e+02 4.0820e+03 6.0500e+02 6.4100e+02 1.2080e+03\n",
      " 1.2880e+03 4.9400e+02 7.7400e+02 4.2900e+02 6.1600e+02 6.5100e+02\n",
      " 8.7400e+02 5.5000e+02 1.4030e+03 8.5500e+02 5.3400e+02 8.4600e+02\n",
      " 8.3000e+02 4.3400e+02 8.0600e+02 1.7060e+03 6.1100e+02 1.1360e+03\n",
      " 8.1000e+02 6.9600e+02 6.3000e+02 8.8000e+02 6.7200e+02 3.9700e+02\n",
      " 8.2900e+02 1.2220e+03 9.7800e+02 5.6900e+02 6.4000e+02 1.5730e+03\n",
      " 5.9200e+02 7.9600e+02 1.2600e+03]\n",
      "==============================\n",
      "Nilai unik untuk kolom  TOTAL_VOTES\n"
     ]
    },
    {
     "name": "stdout",
     "output_type": "stream",
     "text": [
      "[3.0000e+00 0.0000e+00 1.0000e+00 2.0000e+00 5.0000e+00 4.0000e+00\n",
      " 7.0000e+00 1.0000e+01 6.0000e+00 9.0000e+00 3.9000e+01 1.5000e+01\n",
      " 8.6000e+01 3.7000e+01 1.7000e+01 8.0000e+00 1.4100e+02 2.8000e+01\n",
      " 1.1000e+01 2.1000e+01 1.8000e+01 2.3000e+01 1.6000e+01 1.9000e+01\n",
      " 1.4000e+01 1.0300e+02 5.3000e+01 1.2000e+01 5.0000e+01 3.3000e+01\n",
      " 1.3000e+01 2.0000e+01 5.5000e+01 3.2000e+01 3.8000e+01 2.4000e+01\n",
      " 4.4000e+01 3.4000e+01 9.7000e+01 3.6000e+01 2.7000e+01 3.1000e+01\n",
      " 2.6000e+01 6.0000e+01 2.2000e+01 1.3900e+02 4.8000e+01 2.5000e+01\n",
      " 4.9000e+01 2.9000e+01 7.0000e+01 4.1000e+01 8.2000e+01 7.4000e+01\n",
      " 3.0000e+01 1.6400e+02 1.0200e+02 6.6700e+02 6.6000e+01 1.0100e+02\n",
      " 1.6500e+02 4.5000e+01 4.3000e+01 6.7000e+01 5.8000e+01 5.1000e+01\n",
      " 1.1200e+02 1.0500e+02 1.1100e+02 9.0000e+01 8.3000e+01 5.2000e+01\n",
      " 4.0000e+01 3.5000e+01 7.8000e+01 1.8400e+02 4.6000e+01 1.5700e+02\n",
      " 1.1700e+02 1.7500e+02 6.4000e+01 9.8000e+01 9.2000e+01 1.1400e+02\n",
      " 6.2000e+01 6.5000e+01 2.4900e+02 1.7700e+02 6.3000e+01 5.6000e+01\n",
      " 1.4400e+02 8.4000e+01 1.6200e+02 4.2000e+01 1.3300e+02 1.4300e+02\n",
      " 1.1900e+02 1.5200e+02 5.4000e+01 1.7600e+02 1.7000e+02 1.4900e+02\n",
      " 9.5000e+01 6.9000e+01 4.7000e+01 8.9000e+01 8.0000e+01 1.4500e+02\n",
      " 9.6000e+01 6.1000e+01 1.2800e+02 2.7600e+02 1.1000e+02 8.8000e+01\n",
      " 7.5000e+01 1.1500e+02 5.9000e+01 2.0200e+02 7.3000e+01 9.1000e+01\n",
      " 8.1000e+01 8.5000e+01 1.2600e+02 1.5900e+02 7.9000e+01 2.2400e+02\n",
      " 1.8300e+02 1.9300e+02 1.9600e+02 6.8000e+01 1.3000e+02 5.7000e+01\n",
      " 2.3900e+02 8.6400e+02 1.2200e+02 7.1000e+01 1.1600e+02 2.9000e+02\n",
      " 8.7000e+01 1.4000e+02 7.7000e+01 2.3100e+02 1.0000e+02 1.4870e+03\n",
      " 1.7300e+02 1.6100e+02 1.3100e+02 4.7700e+02 3.0100e+02 1.3600e+02\n",
      " 2.1700e+02 1.3500e+02 1.6300e+02 2.3500e+02 1.6700e+02 1.8600e+02\n",
      " 9.4000e+01 1.7400e+02 1.1300e+02 1.9500e+02 3.6100e+02 7.2000e+01\n",
      " 7.1200e+02 9.9000e+01 2.2100e+02 1.4700e+02 2.6700e+02 1.5300e+02\n",
      " 3.5600e+02 1.0600e+02 1.8700e+02 1.0700e+02 2.2300e+02 6.3700e+02\n",
      " 1.2000e+02 1.1800e+02 4.9300e+02 2.0100e+02 1.3800e+02 1.2900e+02\n",
      " 3.1400e+02 1.3400e+02 1.0900e+02 2.2700e+02 1.0800e+02 7.6000e+01\n",
      " 1.3700e+02 1.9800e+02 2.2800e+02 1.2400e+02 1.8200e+02 1.2500e+02\n",
      " 2.8000e+02 5.0000e+02 3.0600e+02 1.5800e+02 1.7200e+02 2.6300e+02\n",
      " 1.9000e+02 1.2100e+02 2.4800e+02 2.9300e+02 1.5000e+02 1.9400e+02\n",
      " 1.2700e+02 2.1000e+02 1.6900e+02 9.3000e+01 2.4100e+02 1.4600e+02\n",
      " 3.8100e+02 2.2500e+02 4.4800e+02 2.0500e+02 1.5500e+02 2.1600e+02\n",
      " 2.6600e+02 3.8600e+02 2.4400e+02 2.7500e+02 1.2720e+03 2.5400e+02\n",
      " 1.0400e+02 2.4600e+02 5.4300e+02 3.7300e+02 2.5000e+02 1.3600e+03\n",
      " 1.2300e+02 1.7800e+02 2.3300e+02 7.0400e+02 3.1300e+02 3.9700e+02\n",
      " 9.2200e+02 7.6500e+02 2.4200e+02 2.8700e+02 2.0300e+02 6.7500e+02\n",
      " 1.5100e+02 2.6500e+02 3.2700e+02 2.2000e+02 2.2200e+02 2.3600e+02\n",
      " 1.4010e+03 3.0500e+02 5.2800e+02 5.0200e+02 4.7200e+02 3.3700e+02\n",
      " 7.6300e+02 9.9700e+02 7.0200e+02 1.4200e+02 1.8000e+02 2.7400e+02\n",
      " 1.9700e+02 2.3200e+02 1.3200e+02 3.2900e+02 3.3000e+02 2.0700e+02\n",
      " 4.5200e+02 4.0300e+02 4.3400e+02 3.2800e+02 1.8100e+02 3.1900e+02\n",
      " 3.3200e+02 1.2840e+03 7.5300e+02 3.6700e+02 3.6800e+02 4.7600e+02\n",
      " 2.7000e+02 9.1400e+02 2.0600e+02 2.1500e+02 2.1800e+02 2.2600e+02\n",
      " 3.7100e+02 1.6800e+02 2.8300e+02 1.6000e+02 3.1700e+02 2.1100e+02\n",
      " 3.5800e+02 2.4500e+02 2.5900e+02 3.4400e+02 2.4700e+02 2.9200e+02\n",
      " 2.7200e+02 2.8100e+02 2.6200e+02 4.2100e+02 7.3500e+02 3.8300e+02\n",
      " 2.8800e+02 3.2400e+02 2.7700e+02 1.8930e+03 2.9900e+02 3.5400e+02\n",
      " 5.7400e+02 1.9100e+02 2.0800e+02 2.0000e+02 6.4000e+02 4.8100e+02\n",
      " 3.2200e+02 2.3700e+02 3.9400e+02 3.6600e+02 2.0900e+02 3.4700e+02\n",
      " 2.1200e+02 1.6600e+02 6.5500e+02 9.5600e+02 3.8700e+02 3.6500e+02\n",
      " 5.1700e+02 3.2500e+02 5.5200e+02 6.3500e+02 2.3800e+02 1.4800e+02\n",
      " 6.1100e+02 1.5400e+02 3.2300e+02 2.2900e+02 1.2540e+03 4.5300e+02\n",
      " 2.1900e+02 2.8400e+02 3.4500e+02 2.4300e+02 6.1400e+02 4.2700e+02\n",
      " 3.8200e+02 4.5400e+02 3.7800e+02 6.9400e+02 4.0100e+02 3.1500e+02\n",
      " 3.0600e+03 3.1000e+02 6.4300e+02 5.0600e+02 3.7900e+02 2.0400e+02\n",
      " 4.9400e+02 3.0700e+02 1.5910e+03 4.1900e+02 2.9700e+02 2.5200e+02\n",
      " 2.0280e+03 3.2100e+02 7.9900e+02 5.3130e+03 1.0150e+03 3.5700e+02\n",
      " 1.8800e+02 6.6400e+02 5.9500e+02 2.8500e+02 4.0800e+02 2.8200e+02\n",
      " 1.9200e+02 3.9800e+02 4.5000e+02 2.5500e+02 3.5100e+02 5.3900e+02\n",
      " 2.9600e+02 1.3330e+03 3.9900e+02 2.9800e+02 9.8900e+02 1.7100e+02\n",
      " 9.6000e+02 7.4000e+02 5.6900e+02 3.0900e+02 6.9500e+02 2.6000e+02\n",
      " 3.1200e+02 1.9900e+02 8.4200e+02 1.8900e+02 4.5100e+02 5.6700e+02\n",
      " 4.6800e+02 1.3880e+03 2.5100e+02 7.7500e+02 2.6800e+02 8.0400e+02\n",
      " 3.3100e+02 4.8300e+02 3.6400e+02 3.4600e+02 2.7100e+02 6.6800e+02\n",
      " 1.5600e+02 2.1300e+02 6.9700e+02 8.9600e+02 7.2900e+02 4.6600e+02\n",
      " 3.8400e+02 1.8500e+02 2.8900e+02 5.5600e+02 4.4500e+02 4.4300e+02\n",
      " 5.1300e+02 3.7600e+02 2.7830e+03 5.8600e+02 1.2970e+03 1.1850e+03\n",
      " 3.6900e+02 2.6100e+02 3.0800e+02 2.5600e+02 2.6900e+02 6.6500e+02\n",
      " 2.7800e+02 4.1800e+02 4.1700e+02 8.2000e+02 3.3600e+02 2.4000e+02\n",
      " 1.7900e+02 6.4100e+02 3.3400e+02 1.6830e+03 5.9800e+02 3.6200e+02\n",
      " 5.3300e+02 4.2400e+02 1.5940e+03 6.8900e+02 9.3200e+02 5.3000e+02\n",
      " 2.5300e+02 5.7100e+02 6.8400e+02 1.0850e+03 6.1600e+02 2.5800e+02\n",
      " 2.3400e+02 5.4500e+02 3.6300e+02 7.8100e+02 7.0500e+02 4.5900e+02\n",
      " 3.5900e+02 5.7200e+02 4.4400e+02 3.4100e+02 3.6000e+02 6.4500e+02\n",
      " 3.2600e+02 3.1100e+02 2.8600e+02 3.3500e+02 4.2900e+02 8.0300e+02\n",
      " 3.9300e+02 5.2000e+02 2.1400e+02 4.2200e+02 3.1800e+02 5.0500e+02\n",
      " 4.0200e+02 4.1200e+02 3.0000e+02 4.5600e+02 8.8200e+02 7.0100e+02\n",
      " 3.4800e+02 8.0100e+02 5.6800e+02 1.5000e+03 5.2700e+02 3.5000e+02\n",
      " 4.8400e+02 5.8700e+02 9.5200e+02 2.3970e+03 2.0680e+03 1.0370e+03\n",
      " 4.3200e+02 5.4000e+02 4.4900e+02 2.9400e+02 5.9100e+02 1.1040e+03\n",
      " 4.7500e+02 2.9100e+02 8.2300e+02 4.1000e+02 5.8500e+02 1.0750e+03\n",
      " 3.0200e+02 1.1750e+03 2.7300e+02 6.0200e+02 5.3500e+02 5.5400e+02\n",
      " 8.4100e+02 6.2800e+02 5.0700e+02 3.9500e+02 8.9700e+02 1.3300e+03\n",
      " 5.0900e+02 6.3100e+02 7.5000e+02 2.2830e+03 5.1000e+02 5.6000e+02\n",
      " 8.7500e+02 5.2300e+02 4.1600e+02 4.6500e+02 7.4700e+02 6.3900e+02\n",
      " 1.6790e+03 3.0300e+02 6.1800e+02 4.9470e+03 4.3300e+02 3.5500e+02\n",
      " 6.5200e+02 4.5500e+02        nan 6.0000e+02 3.7700e+02 4.6100e+02\n",
      " 4.9100e+02 7.8300e+02 4.0500e+02 4.8600e+02 6.0900e+02 9.7000e+02\n",
      " 4.6000e+02 3.7000e+02 1.5100e+03 4.0700e+02 5.1200e+02 3.8000e+02\n",
      " 9.9600e+02 5.0800e+02 3.7500e+02 4.4200e+02 7.7000e+02 9.8200e+02\n",
      " 7.7100e+02 6.1200e+02 1.0400e+03 6.7300e+02 8.9400e+02 1.0500e+03\n",
      " 7.6700e+02 1.2310e+03 6.8300e+02 1.0510e+03 5.1100e+02 1.2500e+03\n",
      " 4.2500e+02 2.6400e+02 5.2600e+02 1.5980e+03 4.5800e+02 5.1900e+02\n",
      " 1.1510e+03 8.1900e+02 5.7900e+02 5.0400e+02 1.0090e+03 3.4000e+02\n",
      " 9.1000e+02 6.9100e+02 3.7400e+02 7.4500e+02 5.7000e+02 1.9360e+03\n",
      " 5.6200e+02 1.8530e+03 3.4200e+02 2.3000e+02 4.3000e+02 2.7900e+02\n",
      " 5.2400e+02 3.3800e+02 5.4900e+02 6.9800e+02 4.7100e+02 5.3400e+02\n",
      " 6.2700e+02 3.5300e+02 1.1720e+03 1.0100e+03 5.1500e+02 4.4100e+02\n",
      " 1.0200e+03 1.4940e+03 8.6500e+02 1.4790e+03 1.0900e+03 8.7700e+02\n",
      " 1.4510e+03 2.7950e+03 3.9200e+02 5.4600e+02 3.1600e+02 6.2100e+02\n",
      " 4.0900e+02 3.5200e+02 8.0000e+02 4.6300e+02 3.4300e+02 8.3300e+02\n",
      " 8.7200e+02 7.8800e+02 8.3200e+02 4.8000e+02 4.0600e+02 5.9750e+03\n",
      " 2.0900e+03 3.8900e+02 7.0000e+02 1.7250e+03 2.2630e+03 6.6600e+02\n",
      " 6.3300e+02 4.8700e+02 8.6600e+02 8.3600e+02 1.0120e+03 4.7000e+02\n",
      " 3.8800e+02 7.8200e+02 4.8500e+02 1.5030e+03 4.7300e+02 2.9500e+02\n",
      " 1.1060e+03 4.3700e+02 3.7510e+03 1.7420e+03 3.7640e+03 4.7800e+02\n",
      " 4.9600e+02 8.4000e+02 4.5700e+02 4.1300e+02 4.7400e+02 1.6720e+03\n",
      " 3.3300e+02 7.5800e+02 5.3200e+02 5.3700e+02 4.8200e+02 6.0500e+02\n",
      " 4.2300e+02 5.0300e+02 6.5100e+02 5.8300e+02 6.8100e+02 3.4380e+03\n",
      " 6.2500e+02 4.8900e+02 1.6100e+03 5.9000e+02 2.5700e+02 1.6290e+03\n",
      " 6.7600e+02 1.3380e+03 4.9800e+02 1.7780e+03 2.9840e+03 4.0400e+02\n",
      " 6.0300e+02 3.4900e+02 4.3100e+02 1.7060e+03 5.6500e+02 3.0400e+02\n",
      " 9.6350e+03 5.1800e+02 4.9200e+02 8.0800e+02 2.0500e+03 6.6900e+02\n",
      " 5.7300e+02 5.7600e+02 1.0330e+03 3.9600e+02 7.9200e+02 8.7900e+02\n",
      " 1.4480e+03 6.8500e+02 4.9500e+02 6.5000e+02 6.8800e+02 7.7800e+02\n",
      " 3.2000e+02 1.3720e+03 7.5700e+02 4.2600e+02 5.8100e+02 4.9700e+02\n",
      " 5.6300e+02 4.1400e+02 1.6380e+03 3.3900e+02 8.4700e+02 3.8500e+02\n",
      " 5.6400e+02 2.7320e+03 6.2200e+02 4.3500e+02 4.9900e+02 4.7300e+03\n",
      " 5.4800e+02 8.5700e+02 2.1810e+03 3.7200e+02 5.6100e+02 8.8800e+02\n",
      " 5.3800e+02 1.0570e+03 1.0070e+03 4.3630e+03 1.3910e+03 2.0940e+03\n",
      " 4.6400e+02 1.9600e+03 5.2200e+02 5.9400e+02 5.8200e+02 8.1100e+02\n",
      " 1.6310e+03 4.7900e+02 9.0100e+02 8.7300e+02 1.6350e+03 4.1100e+02\n",
      " 1.1590e+03 6.7400e+02 7.1800e+02 1.0230e+03 1.0190e+03 5.1400e+02\n",
      " 4.2800e+02 5.9900e+02 2.2982e+04 4.3900e+02 5.8800e+02 4.6700e+02\n",
      " 7.0700e+02 6.9200e+02 8.6300e+02 1.1930e+03 1.9240e+03 3.9100e+02\n",
      " 6.5600e+02 1.6110e+03 6.6200e+02 1.9200e+03 6.4700e+02 4.6020e+03\n",
      " 7.9700e+02 7.8700e+02 4.3840e+03 2.9590e+03 2.5620e+03 9.1800e+02\n",
      " 7.7400e+02 8.5400e+02 1.0030e+03 9.0500e+02 1.9080e+03 5.5000e+02\n",
      " 1.3780e+03 1.1400e+03 7.4100e+02 5.5800e+02 4.3600e+02 7.2100e+02\n",
      " 1.3830e+03 9.4000e+02 2.1590e+03 7.2000e+02 5.2100e+02 6.6000e+02\n",
      " 5.9300e+02 3.9510e+03 6.9900e+02 5.4400e+02 4.4000e+02 7.3000e+02\n",
      " 1.3840e+03 5.2900e+02 4.0000e+02 5.9700e+02 3.0280e+03 1.3270e+03\n",
      " 9.9400e+02 5.8000e+02 6.1300e+02 2.7340e+03 1.1220e+03 7.5100e+02\n",
      " 6.5800e+02 1.7490e+03 3.8320e+03 6.1700e+02 5.4200e+02 1.1240e+03\n",
      " 5.5700e+02 8.2800e+02 1.3980e+03 1.0430e+03 1.0790e+03 8.1700e+02\n",
      " 7.8400e+02 1.5020e+03 3.9000e+02 7.0300e+02 9.3600e+02 4.3800e+02\n",
      " 7.9600e+02 1.4280e+03 5.0100e+02 9.2300e+02 7.9800e+02 9.1100e+02\n",
      " 7.5600e+02 6.4600e+02 7.8600e+02 5.4100e+02 5.9200e+02 1.4850e+03\n",
      " 1.5790e+03 5.5900e+02 1.2960e+03 6.1900e+02 6.5700e+02 6.8600e+02\n",
      " 1.4410e+03 9.2600e+02 7.3400e+02 5.4700e+02 7.5200e+02 9.4900e+02\n",
      " 6.0800e+02 1.0410e+03 8.9300e+02 3.0590e+03 1.0350e+03 1.8420e+03\n",
      " 1.0650e+03 7.4400e+02 7.6200e+02 6.4900e+02 1.0530e+03 1.0800e+03\n",
      " 7.9000e+02 1.5350e+03 8.7400e+02 1.1020e+03 5.5500e+02 6.7000e+02\n",
      " 7.6400e+02 6.3600e+02 6.7200e+02 6.0100e+02 5.5100e+02 4.2000e+02\n",
      " 4.4600e+02 1.1680e+03 6.0600e+02 4.6200e+02 1.1700e+03 1.4570e+03\n",
      " 1.1940e+03 7.4300e+02 9.2800e+02 9.1900e+02 4.8800e+02 4.6900e+02\n",
      " 7.5500e+02 7.3100e+02 2.4520e+03 4.7170e+03 1.3360e+03 2.4210e+03\n",
      " 9.5500e+02 4.0990e+03 1.2280e+03 1.4250e+03 6.5400e+02 9.1200e+02\n",
      " 8.0200e+02 7.2700e+02 7.0600e+02 9.0000e+02 4.4700e+02 5.7500e+02\n",
      " 1.7150e+03 7.1000e+02 1.7960e+03 6.5900e+02 1.4650e+03 8.7100e+02\n",
      " 7.1700e+02 8.5900e+02 8.6700e+02 1.0180e+03 8.8500e+02 6.2300e+02\n",
      " 5.3600e+02 7.4900e+02 1.8290e+03 1.1430e+03 9.3000e+02 9.8100e+02\n",
      " 5.3100e+02 6.0700e+02 6.4400e+02 6.9300e+02 1.3150e+03 7.8000e+02\n",
      " 4.9000e+02 7.3800e+02 1.0780e+03 6.4800e+02 5.6600e+02 1.5890e+03\n",
      " 1.3440e+03]\n",
      "==============================\n"
     ]
    }
   ],
   "source": [
    "# Mencetak semua nilai unik pada setiap atribut numerikal\n",
    "for num_col in numerical_columns:\n",
    "    print(\"Nilai unik untuk kolom \", num_col.upper())\n",
    "    print(data[num_col].unique())\n",
    "    print('='*30)"
   ]
  },
  {
   "cell_type": "markdown",
   "id": "aab1faf4",
   "metadata": {},
   "source": [
    "## Merangkum total missing values (nan) values"
   ]
  },
  {
   "cell_type": "code",
   "execution_count": 64,
   "id": "7662103a",
   "metadata": {},
   "outputs": [
    {
     "name": "stdout",
     "output_type": "stream",
     "text": [
      "Jumlah nan missing values atribut kategori =  556\n",
      "Jumlah nan missing values atribut numerikal =  12\n"
     ]
    }
   ],
   "source": [
    "# missing values pada data train\n",
    "print(\"Jumlah nan missing values atribut kategori = \",data[categorical_columns].isnull().sum().sum())\n",
    "print(\"Jumlah nan missing values atribut numerikal = \",data[numerical_columns].isnull().sum().sum())\n"
   ]
  },
  {
   "cell_type": "markdown",
   "id": "0a5c6e35",
   "metadata": {},
   "source": [
    "Masing-masing terdapat missing values."
   ]
  },
  {
   "cell_type": "markdown",
   "id": "f8113386",
   "metadata": {},
   "source": [
    "\n",
    "## Penanganan Missing Values\n",
    "Untuk data kategorikal, missing values akan diisi dengan modus dari atribut X, sedangkan untuk data numerikal missing values akan diisi dengan median dari atribut Z.\n",
    "\n",
    "### Pisahkan data yang bertipe kategorik dan numerik"
   ]
  },
  {
   "cell_type": "code",
   "execution_count": 65,
   "id": "b276404c",
   "metadata": {},
   "outputs": [],
   "source": [
    " #categorical data\n",
    "data_categorical = data[categorical_columns]\n",
    "\n",
    "# numerical data\n",
    "data_numerical = data[numerical_columns]"
   ]
  },
  {
   "cell_type": "markdown",
   "id": "0de44439",
   "metadata": {},
   "source": [
    "### Input untuk filling nan pada atribut kategorikal"
   ]
  },
  {
   "cell_type": "code",
   "execution_count": 68,
   "id": "7805607c",
   "metadata": {},
   "outputs": [],
   "source": [
    "# Machine learning process\n",
    "from sklearn.model_selection import train_test_split, cross_val_score, GridSearchCV, KFold\n",
    "from sklearn.preprocessing import LabelEncoder, MinMaxScaler, StandardScaler\n",
    "from sklearn.impute import SimpleImputer\n",
    "from sklearn.pipeline import Pipeline\n",
    "from sklearn.naive_bayes import GaussianNB\n",
    "from sklearn.tree import DecisionTreeClassifier\n",
    "from sklearn.neighbors import KNeighborsClassifier\n",
    "from sklearn.ensemble import RandomForestClassifier\n",
    "from sklearn.svm import SVC\n",
    "from sklearn.linear_model import LogisticRegression\n",
    "from sklearn import metrics\n",
    "\n",
    "\n",
    "# features analysis libraries\n",
    "from sklearn.feature_selection import SelectKBest\n",
    "from sklearn.feature_selection import f_classif\n",
    "from sklearn.feature_selection import chi2,mutual_info_classif\n",
    "from sklearn.decomposition import PCA"
   ]
  },
  {
   "cell_type": "code",
   "execution_count": 70,
   "id": "a8bfc50b",
   "metadata": {},
   "outputs": [],
   "source": [
    "imputer_categorical = SimpleImputer(missing_values=np.nan, strategy='most_frequent')\n",
    "imputer_numerical = SimpleImputer(missing_values=np.nan, strategy='most_frequent')\n"
   ]
  },
  {
   "cell_type": "markdown",
   "id": "3ee0099a",
   "metadata": {},
   "source": [
    "## Fit data training "
   ]
  },
  {
   "cell_type": "code",
   "execution_count": 71,
   "id": "bafda2c6",
   "metadata": {},
   "outputs": [
    {
     "data": {
      "text/plain": [
       "SimpleImputer(strategy='most_frequent')"
      ]
     },
     "execution_count": 71,
     "metadata": {},
     "output_type": "execute_result"
    }
   ],
   "source": [
    "#Categorical\n",
    "# fit dengan data training\n",
    "imputer_categorical.fit(data_categorical)"
   ]
  },
  {
   "cell_type": "code",
   "execution_count": 72,
   "id": "8020c706",
   "metadata": {},
   "outputs": [
    {
     "data": {
      "text/plain": [
       "SimpleImputer(strategy='most_frequent')"
      ]
     },
     "execution_count": 72,
     "metadata": {},
     "output_type": "execute_result"
    }
   ],
   "source": [
    "#numerical\n",
    "# fit dengan data training\n",
    "imputer_numerical.fit(data_numerical)"
   ]
  },
  {
   "cell_type": "code",
   "execution_count": 75,
   "id": "ab79f78b",
   "metadata": {},
   "outputs": [
    {
     "name": "stdout",
     "output_type": "stream",
     "text": [
      "Jumlah nan missing values atribut kategori =  0\n",
      "Jumlah nan missing values atribut numerikal =  0\n"
     ]
    }
   ],
   "source": [
    "# transform ke data latih\n",
    "data_categorical = imputer_categorical.transform(data_categorical)\n",
    "data_numerical = imputer_numerical.transform(data_numerical)\n",
    "\n",
    "# buat hasil array ke dalam dataframe\n",
    "data_categorical = pd.DataFrame(data_categorical,columns=categorical_columns)\n",
    "data_numerical = pd.DataFrame (data_numerical,columns=numerical_columns)\n",
    "\n",
    "# Concate categorical columns dengan numerical columns\n",
    "data = pd.concat([data_categorical,data_numerical],axis=1)\n",
    "\n",
    "#Check kalau masih ada missing values terlewat\n",
    "# missing values pada data train\n",
    "print(\"Jumlah nan missing values atribut kategori = \",data[categorical_columns].isnull().sum().sum())\n",
    "print(\"Jumlah nan missing values atribut numerikal = \",data[numerical_columns].isnull().sum().sum())\n"
   ]
  },
  {
   "cell_type": "code",
   "execution_count": 77,
   "id": "60786b37",
   "metadata": {},
   "outputs": [
    {
     "data": {
      "text/html": [
       "<div>\n",
       "<style scoped>\n",
       "    .dataframe tbody tr th:only-of-type {\n",
       "        vertical-align: middle;\n",
       "    }\n",
       "\n",
       "    .dataframe tbody tr th {\n",
       "        vertical-align: top;\n",
       "    }\n",
       "\n",
       "    .dataframe thead th {\n",
       "        text-align: right;\n",
       "    }\n",
       "</style>\n",
       "<table border=\"1\" class=\"dataframe\">\n",
       "  <thead>\n",
       "    <tr style=\"text-align: right;\">\n",
       "      <th></th>\n",
       "      <th>customer_id</th>\n",
       "      <th>product_parent</th>\n",
       "      <th>star_rating</th>\n",
       "      <th>helpful_votes</th>\n",
       "      <th>total_votes</th>\n",
       "      <th>marketplace</th>\n",
       "      <th>review_id</th>\n",
       "      <th>product_id</th>\n",
       "      <th>product_title</th>\n",
       "      <th>product_category</th>\n",
       "      <th>vine</th>\n",
       "      <th>verified_purchase</th>\n",
       "      <th>review_headline</th>\n",
       "      <th>review_body</th>\n",
       "      <th>review_date</th>\n",
       "    </tr>\n",
       "  </thead>\n",
       "  <tbody>\n",
       "    <tr>\n",
       "      <th>0</th>\n",
       "      <td>27288431.0</td>\n",
       "      <td>400024643.0</td>\n",
       "      <td>5.0</td>\n",
       "      <td>3.0</td>\n",
       "      <td>3.0</td>\n",
       "      <td>US</td>\n",
       "      <td>R33UPQQUZQEM8</td>\n",
       "      <td>B005T4ND06</td>\n",
       "      <td>Yoga for Movement Disorders DVD: Rebuilding St...</td>\n",
       "      <td>Video DVD</td>\n",
       "      <td>N</td>\n",
       "      <td>Y</td>\n",
       "      <td>This was a gift for my aunt who has Parkinson'...</td>\n",
       "      <td>This was a gift for my aunt who has Parkinson'...</td>\n",
       "      <td>2015-08-31</td>\n",
       "    </tr>\n",
       "    <tr>\n",
       "      <th>1</th>\n",
       "      <td>13722556.0</td>\n",
       "      <td>685335564.0</td>\n",
       "      <td>5.0</td>\n",
       "      <td>0.0</td>\n",
       "      <td>0.0</td>\n",
       "      <td>US</td>\n",
       "      <td>R3IKTNQQPD9662</td>\n",
       "      <td>B004EPZ070</td>\n",
       "      <td>Something Borrowed</td>\n",
       "      <td>Video DVD</td>\n",
       "      <td>N</td>\n",
       "      <td>Y</td>\n",
       "      <td>Five Stars</td>\n",
       "      <td>Teats my heart out.</td>\n",
       "      <td>2015-08-31</td>\n",
       "    </tr>\n",
       "    <tr>\n",
       "      <th>2</th>\n",
       "      <td>20381037.0</td>\n",
       "      <td>922008804.0</td>\n",
       "      <td>5.0</td>\n",
       "      <td>1.0</td>\n",
       "      <td>1.0</td>\n",
       "      <td>US</td>\n",
       "      <td>R3U27V5QMCP27T</td>\n",
       "      <td>B005S9EKCW</td>\n",
       "      <td>Les Miserables (2012) [Blu-ray]</td>\n",
       "      <td>Video DVD</td>\n",
       "      <td>N</td>\n",
       "      <td>Y</td>\n",
       "      <td>Great movie!</td>\n",
       "      <td>Great movie.</td>\n",
       "      <td>2015-08-31</td>\n",
       "    </tr>\n",
       "    <tr>\n",
       "      <th>3</th>\n",
       "      <td>24852644.0</td>\n",
       "      <td>326560548.0</td>\n",
       "      <td>5.0</td>\n",
       "      <td>0.0</td>\n",
       "      <td>1.0</td>\n",
       "      <td>US</td>\n",
       "      <td>R2TOH2QKNK4IOC</td>\n",
       "      <td>B00FC1ZCB4</td>\n",
       "      <td>Alien Anthology and Prometheus Bundle [Blu-ray]</td>\n",
       "      <td>Video DVD</td>\n",
       "      <td>N</td>\n",
       "      <td>Y</td>\n",
       "      <td>Amazing</td>\n",
       "      <td>My husband was so excited to receive these as ...</td>\n",
       "      <td>2015-08-31</td>\n",
       "    </tr>\n",
       "    <tr>\n",
       "      <th>4</th>\n",
       "      <td>15556113.0</td>\n",
       "      <td>637495038.0</td>\n",
       "      <td>5.0</td>\n",
       "      <td>0.0</td>\n",
       "      <td>0.0</td>\n",
       "      <td>US</td>\n",
       "      <td>R2XQG5NJ59UFMY</td>\n",
       "      <td>B002ZG98Z0</td>\n",
       "      <td>Sex and the City 2</td>\n",
       "      <td>Video DVD</td>\n",
       "      <td>N</td>\n",
       "      <td>Y</td>\n",
       "      <td>Five Stars</td>\n",
       "      <td>Love this series.</td>\n",
       "      <td>2015-08-31</td>\n",
       "    </tr>\n",
       "  </tbody>\n",
       "</table>\n",
       "</div>"
      ],
      "text/plain": [
       "   customer_id  product_parent  star_rating  helpful_votes  total_votes  \\\n",
       "0   27288431.0     400024643.0          5.0            3.0          3.0   \n",
       "1   13722556.0     685335564.0          5.0            0.0          0.0   \n",
       "2   20381037.0     922008804.0          5.0            1.0          1.0   \n",
       "3   24852644.0     326560548.0          5.0            0.0          1.0   \n",
       "4   15556113.0     637495038.0          5.0            0.0          0.0   \n",
       "\n",
       "  marketplace       review_id  product_id  \\\n",
       "0          US   R33UPQQUZQEM8  B005T4ND06   \n",
       "1          US  R3IKTNQQPD9662  B004EPZ070   \n",
       "2          US  R3U27V5QMCP27T  B005S9EKCW   \n",
       "3          US  R2TOH2QKNK4IOC  B00FC1ZCB4   \n",
       "4          US  R2XQG5NJ59UFMY  B002ZG98Z0   \n",
       "\n",
       "                                       product_title product_category vine  \\\n",
       "0  Yoga for Movement Disorders DVD: Rebuilding St...        Video DVD    N   \n",
       "1                                 Something Borrowed        Video DVD    N   \n",
       "2                    Les Miserables (2012) [Blu-ray]        Video DVD    N   \n",
       "3    Alien Anthology and Prometheus Bundle [Blu-ray]        Video DVD    N   \n",
       "4                                 Sex and the City 2        Video DVD    N   \n",
       "\n",
       "  verified_purchase                                    review_headline  \\\n",
       "0                 Y  This was a gift for my aunt who has Parkinson'...   \n",
       "1                 Y                                         Five Stars   \n",
       "2                 Y                                       Great movie!   \n",
       "3                 Y                                            Amazing   \n",
       "4                 Y                                         Five Stars   \n",
       "\n",
       "                                         review_body review_date  \n",
       "0  This was a gift for my aunt who has Parkinson'...  2015-08-31  \n",
       "1                                Teats my heart out.  2015-08-31  \n",
       "2                                       Great movie.  2015-08-31  \n",
       "3  My husband was so excited to receive these as ...  2015-08-31  \n",
       "4                                  Love this series.  2015-08-31  "
      ]
     },
     "execution_count": 77,
     "metadata": {},
     "output_type": "execute_result"
    }
   ],
   "source": [
    "data.head()"
   ]
  },
  {
   "cell_type": "markdown",
   "id": "09a4b531",
   "metadata": {},
   "source": [
    "## Eksplorasi Data (Visualisasi\n",
    "### Berapa persentase setiap nilai pada kepuasan pembelian?"
   ]
  },
  {
   "cell_type": "code",
   "execution_count": 79,
   "id": "f9fe7a04",
   "metadata": {},
   "outputs": [
    {
     "data": {
      "text/plain": [
       "Y    3298594\n",
       "N    1750697\n",
       "Name: verified_purchase, dtype: int64"
      ]
     },
     "execution_count": 79,
     "metadata": {},
     "output_type": "execute_result"
    }
   ],
   "source": [
    "data['verified_purchase'].value_counts()"
   ]
  },
  {
   "cell_type": "code",
   "execution_count": 80,
   "id": "3ca8cb8e",
   "metadata": {},
   "outputs": [
    {
     "data": {
      "text/plain": [
       "<matplotlib.legend.Legend at 0x27dc723a7c0>"
      ]
     },
     "execution_count": 80,
     "metadata": {},
     "output_type": "execute_result"
    },
    {
     "data": {
      "image/png": "[encoded data removed]",
      "text/plain": [
       "<Figure size 1152x432 with 2 Axes>"
      ]
     },
     "metadata": {
      "needs_background": "light"
     },
     "output_type": "display_data"
    }
   ],
   "source": [
    "fig, ax = plt.subplots(1,2,figsize=(16,6))\n",
    "\n",
    "# persentase \"berlangganan deposito\"\n",
    "data['verified_purchase'].value_counts().plot(\n",
    "    kind='pie',\n",
    "    autopct='%.1f%%',\n",
    "    explode=[0,0.05], \n",
    "    cmap='cool',\n",
    "    shadow=True,\n",
    "    ax=ax[0]\n",
    ")\n",
    "ax[0].set_title('Persentase Kepuasan Pembelian')\n",
    "ax[0].set_ylabel('')\n",
    "\n",
    "# Barchart besaran setiap nilai pada kelas target\n",
    "data.groupby('verified_purchase').agg({'verified_purchase':'count'}).plot(\n",
    "    kind='bar',\n",
    "    ax=ax[1]\n",
    ")\n",
    "ax[1].set_title('Jumlah Kepuasan Pembelian')\n",
    "ax[1].set_ylabel('Jumlah')\n",
    "ax[1].set_xlabel('Kepuasan Pembelian')\n",
    "ax[1].legend(title='Nilai Kepuasan')"
   ]
  },
  {
   "cell_type": "markdown",
   "id": "28c1d2ec",
   "metadata": {},
   "source": [
    "## Setup \n",
    "\n",
    "Import matplotlib and create a helper function to plot graphs:"
   ]
  },
  {
   "cell_type": "code",
   "execution_count": 88,
   "id": "8d974bfb",
   "metadata": {},
   "outputs": [],
   "source": [
    "tfds.disable_progress_bar()\n",
    "import matplotlib.pyplot as plt\n",
    "\n",
    "def plot_graphs(history, metric):\n",
    "  plt.plot(history.history[metric])\n",
    "  plt.plot(history.history['val_'+metric], '')\n",
    "  plt.xlabel(\"Epochs\")\n",
    "  plt.ylabel(metric)\n",
    "  plt.legend([metric, 'val_'+metric])"
   ]
  },
  {
   "cell_type": "code",
   "execution_count": 113,
   "id": "a4c391aa",
   "metadata": {},
   "outputs": [],
   "source": [
    "from sklearn.feature_extraction.text import TfidfVectorizer, CountVectorizer\n",
    "from sklearn.decomposition import LatentDirichletAllocation,TruncatedSVD\n",
    "from sklearn.cluster import KMeans\n",
    "from sklearn.preprocessing import MinMaxScaler\n",
    "from sklearn.manifold import TSNE\n",
    "from sklearn.svm import LinearSVC\n",
    "from nltk.stem.snowball import SnowballStemmer\n",
    "from nltk.tokenize import RegexpTokenizer"
   ]
  },
  {
   "cell_type": "markdown",
   "id": "98d7acee",
   "metadata": {},
   "source": [
    "#### Menghilangkan kolom yang tidak diperlukan"
   ]
  },
  {
   "cell_type": "code",
   "execution_count": 125,
   "id": "9afe01a3",
   "metadata": {},
   "outputs": [],
   "source": [
    "rating = ['low','neutral','high']\n",
    "\n",
    "def rating_y(y):\n",
    "    if y<=2:\n",
    "        return rating[0]\n",
    "    elif y>=4:\n",
    "        return rating[2]\n",
    "    else:\n",
    "        return rating[1]\n",
    "\n",
    "\n",
    "data['rating_cat'] = data['star_rating'].apply(rating_y)"
   ]
  },
  {
   "cell_type": "code",
   "execution_count": 126,
   "id": "1fe557b0",
   "metadata": {},
   "outputs": [],
   "source": [
    "data_fix=data.drop(['marketplace', 'review_id',\n",
    "                      'product_id','product_parent',\n",
    "                      'product_category','helpful_votes',\n",
    "                       'total_votes','vine',\n",
    "                       'verified_purchase','review_headline',\n",
    "                     'review_date','customer_id',\n",
    "                      'product_title',], axis=1)"
   ]
  },
  {
   "cell_type": "code",
   "execution_count": 127,
   "id": "c67589ad",
   "metadata": {},
   "outputs": [
    {
     "data": {
      "text/html": [
       "<div>\n",
       "<style scoped>\n",
       "    .dataframe tbody tr th:only-of-type {\n",
       "        vertical-align: middle;\n",
       "    }\n",
       "\n",
       "    .dataframe tbody tr th {\n",
       "        vertical-align: top;\n",
       "    }\n",
       "\n",
       "    .dataframe thead th {\n",
       "        text-align: right;\n",
       "    }\n",
       "</style>\n",
       "<table border=\"1\" class=\"dataframe\">\n",
       "  <thead>\n",
       "    <tr style=\"text-align: right;\">\n",
       "      <th></th>\n",
       "      <th>star_rating</th>\n",
       "      <th>review_body</th>\n",
       "      <th>rating_cat</th>\n",
       "    </tr>\n",
       "  </thead>\n",
       "  <tbody>\n",
       "    <tr>\n",
       "      <th>0</th>\n",
       "      <td>5.0</td>\n",
       "      <td>This was a gift for my aunt who has Parkinson'...</td>\n",
       "      <td>high</td>\n",
       "    </tr>\n",
       "    <tr>\n",
       "      <th>1</th>\n",
       "      <td>5.0</td>\n",
       "      <td>Teats my heart out.</td>\n",
       "      <td>high</td>\n",
       "    </tr>\n",
       "    <tr>\n",
       "      <th>2</th>\n",
       "      <td>5.0</td>\n",
       "      <td>Great movie.</td>\n",
       "      <td>high</td>\n",
       "    </tr>\n",
       "    <tr>\n",
       "      <th>3</th>\n",
       "      <td>5.0</td>\n",
       "      <td>My husband was so excited to receive these as ...</td>\n",
       "      <td>high</td>\n",
       "    </tr>\n",
       "    <tr>\n",
       "      <th>4</th>\n",
       "      <td>5.0</td>\n",
       "      <td>Love this series.</td>\n",
       "      <td>high</td>\n",
       "    </tr>\n",
       "  </tbody>\n",
       "</table>\n",
       "</div>"
      ],
      "text/plain": [
       "   star_rating                                        review_body rating_cat\n",
       "0          5.0  This was a gift for my aunt who has Parkinson'...       high\n",
       "1          5.0                                Teats my heart out.       high\n",
       "2          5.0                                       Great movie.       high\n",
       "3          5.0  My husband was so excited to receive these as ...       high\n",
       "4          5.0                                  Love this series.       high"
      ]
     },
     "execution_count": 127,
     "metadata": {},
     "output_type": "execute_result"
    }
   ],
   "source": [
    "data_fix=data_fix.head(10000)\n",
    "data_fix.head()"
   ]
  },
  {
   "cell_type": "markdown",
   "id": "a4eef153",
   "metadata": {},
   "source": [
    "Untuk mempermudah training data dibatasi hanya 10000 data yang digunakan"
   ]
  },
  {
   "cell_type": "code",
   "execution_count": 128,
   "id": "0fbbc06d",
   "metadata": {},
   "outputs": [
    {
     "name": "stderr",
     "output_type": "stream",
     "text": [
      "C:\\Users\\indria.hazhiah\\Anaconda3\\lib\\site-packages\\sklearn\\feature_extraction\\text.py:396: UserWarning: Your stop_words may be inconsistent with your preprocessing. Tokenizing the stop words generated tokens ['abov', 'afterward', 'alon', 'alreadi', 'alway', 'ani', 'anoth', 'anyon', 'anyth', 'anywher', 'becam', 'becaus', 'becom', 'befor', 'besid', 'cri', 'describ', 'dure', 'els', 'elsewher', 'empti', 'everi', 'everyon', 'everyth', 'everywher', 'fifti', 'forti', 'henc', 'hereaft', 'herebi', 'howev', 'hundr', 'inde', 'mani', 'meanwhil', 'moreov', 'nobodi', 'noon', 'noth', 'nowher', 'onc', 'onli', 'otherwis', 'ourselv', 'perhap', 'pleas', 'sever', 'sinc', 'sincer', 'sixti', 'someon', 'someth', 'sometim', 'somewher', 'themselv', 'thenc', 'thereaft', 'therebi', 'therefor', 'togeth', 'twelv', 'twenti', 'veri', 'whatev', 'whenc', 'whenev', 'wherea', 'whereaft', 'wherebi', 'wherev', 'whi', 'yourselv'] not in stop_words.\n",
      "  warnings.warn(\n"
     ]
    }
   ],
   "source": [
    "\n",
    "stemmer = SnowballStemmer(\"english\")\n",
    "tokenizer = RegexpTokenizer(\"[a-z']+\")\n",
    "\n",
    "def tokenize(text):\n",
    "    tokens = tokenizer.tokenize(text)\n",
    "    return [stemmer.stem(t) for t in tokens] \n",
    "\n",
    "def get_tf(data_fix, use_idf, max_df=1.0, min_df=1, ngram_range=(1,1)):\n",
    "    if use_idf:\n",
    "        m = TfidfVectorizer(max_df=max_df, min_df=min_df, stop_words='english', ngram_range=ngram_range, tokenizer=tokenize)\n",
    "    else:\n",
    "        m = CountVectorizer(max_df=max_df, min_df=min_df, stop_words='english', ngram_range=ngram_range, tokenizer=tokenize)\n",
    "    \n",
    "    d = m.fit_transform(data_fix.values.astype('U'))\n",
    "    \n",
    "    return m, d\n",
    "tf_m, tf_d = get_tf(data_fix['review_body'], use_idf=False, max_df=0.90, min_df=10)\n",
    "tfidf_m, tfidf_d = get_tf(data_fix['review_body'], use_idf=True, max_df=0.90, min_df=10)\n"
   ]
  },
  {
   "cell_type": "code",
   "execution_count": 129,
   "id": "4f0ee2b1",
   "metadata": {},
   "outputs": [],
   "source": [
    "n_topics = 10\n",
    "\n",
    "def get_lda(data_fix, topics):\n",
    "    m = LatentDirichletAllocation(n_components=topics, n_jobs=-1, learning_method='online').fit(data_fix)\n",
    "    d = m.transform(data_fix)\n",
    "    return m, d\n",
    "\n",
    "def get_kmeans(data_fix, k, scale=True):\n",
    "    if scale:\n",
    "        s = MinMaxScaler()\n",
    "        data = s.fit_transform(data_fix)\n",
    "    \n",
    "    m = KMeans(n_clusters=k).fit(data_fix)\n",
    "    d = m.predict(data_fix)\n",
    "    return m, d        \n",
    "\n",
    "lda_m, lda_d = get_lda(tf_d, n_topics)\n",
    "kmean_m, kmean_d = get_kmeans(tfidf_d, n_topics, scale=False)"
   ]
  },
  {
   "cell_type": "code",
   "execution_count": 130,
   "id": "a5a67b0f",
   "metadata": {},
   "outputs": [],
   "source": [
    "def show_topics(model, feature_names, n_words):\n",
    "    for topic_idx, topic in enumerate(model.components_):\n",
    "        print(\"Topic #%d:\" % topic_idx)\n",
    "        print(\", \".join([feature_names[i]\n",
    "                        for i in topic.argsort()[:-n_words - 1:-1]]))\n",
    "    print()"
   ]
  },
  {
   "cell_type": "code",
   "execution_count": 131,
   "id": "f78398e2",
   "metadata": {},
   "outputs": [],
   "source": [
    "def show_cluster_topics(cluster_labels, tf_matrix, feature_names, n_words):\n",
    "    d = pd.DataFrame(tf_matrix.toarray())\n",
    "    d['c'] = cluster_labels\n",
    "    d = d.groupby('c').sum().T\n",
    "    \n",
    "    for col in d:\n",
    "        top_n = d[col].nlargest(n_words).index.tolist()\n",
    "        print(\"Cluster #%d:\" % col)\n",
    "        print(\", \".join([feature_names[i]\n",
    "                for i in top_n]))\n",
    "    print()"
   ]
  },
  {
   "cell_type": "code",
   "execution_count": 132,
   "id": "c48194a1",
   "metadata": {},
   "outputs": [
    {
     "name": "stdout",
     "output_type": "stream",
     "text": [
      "Top 15 stemmed words per topic in LDA model\n",
      "\n",
      "Topic #0:\n",
      "dvd, ray, blu, disc, releas, new, miss, special, play, look, featur, player, wasn't, case, time\n",
      "Topic #1:\n",
      "br, film, scene, make, act, peopl, s, star, becaus, end, whi, actual, man, bad, west\n",
      "Topic #2:\n",
      "seri, season, love, episod, watch, fan, set, like, start, end, wait, charact, can't, final, collect\n",
      "Topic #3:\n",
      "product, veri, nice, thought, famili, expect, qualiti, great, sound, everyth, year, entertain, pictur, son, understand\n",
      "Topic #4:\n",
      "thank, work, perfect, right, beauti, play, use, american, workout, day, rememb, want, amazon, abl, especi\n",
      "Topic #5:\n",
      "time, awesom, favorit, long, arriv, boy, song, quick, sever, night, ship, women, man, place, mani\n",
      "Topic #6:\n",
      "movi, stori, like, veri, better, video, make, classic, wonder, fun, look, version, just, best, happi\n",
      "Topic #7:\n",
      "movi, great, love, good, veri, funni, seri, best, kid, watch, fast, time, stori, favorit, excel\n",
      "Topic #8:\n",
      "excel, doe, war, life, world, present, histori, documentari, follow, unit, communist, sinc, nation, book, parti\n",
      "Topic #9:\n",
      "enjoy, watch, just, realli, like, good, music, alway, veri, don't, did, pretti, amaz, great, want\n",
      "\n"
     ]
    },
    {
     "name": "stderr",
     "output_type": "stream",
     "text": [
      "C:\\Users\\indria.hazhiah\\Anaconda3\\lib\\site-packages\\sklearn\\utils\\deprecation.py:87: FutureWarning: Function get_feature_names is deprecated; get_feature_names is deprecated in 1.0 and will be removed in 1.2. Please use get_feature_names_out instead.\n",
      "  warnings.warn(msg, category=FutureWarning)\n"
     ]
    }
   ],
   "source": [
    "print(\"Top 15 stemmed words per topic in LDA model\\n\")\n",
    "show_topics(lda_m, tf_m.get_feature_names(), 15)"
   ]
  },
  {
   "cell_type": "code",
   "execution_count": 133,
   "id": "4b5245d7",
   "metadata": {},
   "outputs": [
    {
     "name": "stdout",
     "output_type": "stream",
     "text": [
      "Top 15 stemmed words per cluster in Kmeans model\n",
      "\n",
      "Cluster #0:\n",
      "dvd, great, seller, receiv, advertis, love, time, recommend, manner, movi, play, thank, condit, veri, watch\n",
      "Cluster #1:\n",
      "love, great, veri, seri, like, watch, good, film, enjoy, season, stori, best, just, time, awesom\n",
      "Cluster #2:\n",
      "excel, complaint, movi, seri, servic, great, product, qualiti, film, video, price, dvd, veri, stori, condit\n",
      "Cluster #3:\n",
      "good, movi, veri, seri, play, buy, real, product, like, stori, realli, time, pretti, season, qualiti\n",
      "Cluster #4:\n",
      "movi, great, love, good, watch, favorit, time, like, enjoy, best, veri, classic, awesom, funni, fun\n",
      "Cluster #5:\n",
      "love, movi, seri, great, kid, son, watch, old, daughter, just, absolut, stori, fun, classic, time\n",
      "Cluster #6:\n",
      "br, film, movi, like, time, watch, just, good, veri, great, realli, way, make, stori, end\n",
      "Cluster #7:\n",
      "great, movi, product, seri, price, classic, condit, film, famili, collect, qualiti, job, buy, stori, work\n",
      "Cluster #8:\n",
      "fast, deliveri, ship, great, item, thank, purchas, satisfi, eas, product, quick, veri, recommend, movi, u\n",
      "Cluster #9:\n",
      "thank, promis, everyth, love, great, movi, excel, veri, enjoy, perfect, good, dvd, u, happi, deal\n",
      "\n"
     ]
    }
   ],
   "source": [
    "print(\"Top 15 stemmed words per cluster in Kmeans model\\n\")\n",
    "show_cluster_topics(kmean_d, tfidf_d, tfidf_m.get_feature_names(), 15)\n"
   ]
  },
  {
   "cell_type": "code",
   "execution_count": 134,
   "id": "592727d6",
   "metadata": {},
   "outputs": [
    {
     "name": "stderr",
     "output_type": "stream",
     "text": [
      "C:\\Users\\indria.hazhiah\\Anaconda3\\lib\\site-packages\\sklearn\\manifold\\_t_sne.py:780: FutureWarning: The default initialization in TSNE will change from 'random' to 'pca' in 1.2.\n",
      "  warnings.warn(\n",
      "C:\\Users\\indria.hazhiah\\Anaconda3\\lib\\site-packages\\sklearn\\manifold\\_t_sne.py:790: FutureWarning: The default learning rate in TSNE will change from 200.0 to 'auto' in 1.2.\n",
      "  warnings.warn(\n"
     ]
    }
   ],
   "source": [
    "def get_svd(data_fix, components):\n",
    "    svd = TruncatedSVD(n_components=components).fit(data_fix)\n",
    "    o = pd.DataFrame(svd.transform(data_fix), columns=range(0,components))\n",
    "    return svd,o\n",
    "\n",
    "def get_tsne(data_fix, components, perplexity):\n",
    "    tsne = TSNE(n_components=components, perplexity=perplexity, n_iter=1000)\n",
    "    o = pd.DataFrame(tsne.fit_transform(data_fix), columns=range(0,components))\n",
    "    return tsne,o\n",
    "\n",
    "svd_v, svd_m = get_svd(tfidf_d, 50)\n",
    "tnse_v, tsne_m = get_tsne(svd_m, 2, 25)\n",
    "\n",
    "lda_c = lda_d.argmax(axis=1)"
   ]
  },
  {
   "cell_type": "code",
   "execution_count": 135,
   "id": "4dc3e4e3",
   "metadata": {},
   "outputs": [
    {
     "name": "stderr",
     "output_type": "stream",
     "text": [
      "*c* argument looks like a single numeric RGB or RGBA sequence, which should be avoided as value-mapping will have precedence in case its length matches with *x* & *y*.  Please use the *color* keyword-argument or provide a 2D array with a single row if you intend to specify the same RGB or RGBA value for all points.\n",
      "*c* argument looks like a single numeric RGB or RGBA sequence, which should be avoided as value-mapping will have precedence in case its length matches with *x* & *y*.  Please use the *color* keyword-argument or provide a 2D array with a single row if you intend to specify the same RGB or RGBA value for all points.\n",
      "*c* argument looks like a single numeric RGB or RGBA sequence, which should be avoided as value-mapping will have precedence in case its length matches with *x* & *y*.  Please use the *color* keyword-argument or provide a 2D array with a single row if you intend to specify the same RGB or RGBA value for all points.\n",
      "*c* argument looks like a single numeric RGB or RGBA sequence, which should be avoided as value-mapping will have precedence in case its length matches with *x* & *y*.  Please use the *color* keyword-argument or provide a 2D array with a single row if you intend to specify the same RGB or RGBA value for all points.\n",
      "*c* argument looks like a single numeric RGB or RGBA sequence, which should be avoided as value-mapping will have precedence in case its length matches with *x* & *y*.  Please use the *color* keyword-argument or provide a 2D array with a single row if you intend to specify the same RGB or RGBA value for all points.\n",
      "*c* argument looks like a single numeric RGB or RGBA sequence, which should be avoided as value-mapping will have precedence in case its length matches with *x* & *y*.  Please use the *color* keyword-argument or provide a 2D array with a single row if you intend to specify the same RGB or RGBA value for all points.\n",
      "*c* argument looks like a single numeric RGB or RGBA sequence, which should be avoided as value-mapping will have precedence in case its length matches with *x* & *y*.  Please use the *color* keyword-argument or provide a 2D array with a single row if you intend to specify the same RGB or RGBA value for all points.\n",
      "*c* argument looks like a single numeric RGB or RGBA sequence, which should be avoided as value-mapping will have precedence in case its length matches with *x* & *y*.  Please use the *color* keyword-argument or provide a 2D array with a single row if you intend to specify the same RGB or RGBA value for all points.\n",
      "*c* argument looks like a single numeric RGB or RGBA sequence, which should be avoided as value-mapping will have precedence in case its length matches with *x* & *y*.  Please use the *color* keyword-argument or provide a 2D array with a single row if you intend to specify the same RGB or RGBA value for all points.\n",
      "*c* argument looks like a single numeric RGB or RGBA sequence, which should be avoided as value-mapping will have precedence in case its length matches with *x* & *y*.  Please use the *color* keyword-argument or provide a 2D array with a single row if you intend to specify the same RGB or RGBA value for all points.\n"
     ]
    },
    {
     "data": {
      "image/png": "[encoded data removed]",
      "text/plain": [
       "<Figure size 432x288 with 1 Axes>"
      ]
     },
     "metadata": {
      "needs_background": "light"
     },
     "output_type": "display_data"
    }
   ],
   "source": [
    "import matplotlib.pyplot as plt\n",
    "import matplotlib.cm as cm\n",
    "import matplotlib\n",
    "\n",
    "def plot_scatter_2d(x, y, c, sample_size, title):\n",
    "    df = pd.DataFrame({'x': x, 'y': y, 'c': c}).sample(sample_size)\n",
    "    l = len(np.unique(c))\n",
    "    \n",
    "    ax = plt.subplot(111)\n",
    "    colors = cm.rainbow(np.linspace(0, 1, l))\n",
    "                                   \n",
    "    for c in range(0,l):\n",
    "        qq = df[df['c']==c]\n",
    "        ax.scatter(qq['x'], qq['y'],c=colors[c], label=c)\n",
    "    plt.legend(loc='upper left', numpoints=1, ncol=3, fontsize=8, bbox_to_anchor=(0, 0), title='Topic/Cluster')\n",
    "    ax.set_yticklabels([])\n",
    "    ax.set_xticklabels([])\n",
    "    ax.set_title(title)\n",
    "    plt.show()\n",
    "\n",
    "get_ipython().run_line_magic('matplotlib', 'inline')\n",
    "plot_scatter_2d(tsne_m[0], tsne_m[1], kmean_d, 1000, 'KMeans Clustering of Baby Products Reviews using TFIDF (t-SNE Plot)')\n"
   ]
  },
  {
   "cell_type": "code",
   "execution_count": 136,
   "id": "0d6b4132",
   "metadata": {},
   "outputs": [],
   "source": [
    "X_train, X_test, y_train, y_test = train_test_split(tfidf_d,\n",
    "                                                    data_fix['rating_cat'],test_size=0.3)"
   ]
  },
  {
   "cell_type": "code",
   "execution_count": 137,
   "id": "7417870d",
   "metadata": {},
   "outputs": [
    {
     "name": "stdout",
     "output_type": "stream",
     "text": [
      "Model accuracy predictions\n",
      "\n",
      "LR model (low rating): 93.0%\n",
      "LR model (neutral rating): 94.2%\n",
      "LR model (high rating): 87.9%\n",
      "\n",
      "SVM model (low rating): 93.2%\n",
      "SVM model (neutral rating): 94.3%\n",
      "SVM model (high rating): 89.7%\n",
      "\n",
      "NB model (low rating): 92.9%\n",
      "NB model (neutral rating): 94.2%\n",
      "NB model (high rating): 87.3%\n",
      "\n",
      "COMBINED model (low rating): 93.0%\n",
      "COMBINED model (neutral rating): 94.2%\n",
      "COMBINED model (high rating): 88.1%\n",
      "\n"
     ]
    }
   ],
   "source": [
    "from sklearn.naive_bayes import MultinomialNB\n",
    "from sklearn.ensemble import RandomForestClassifier, VotingClassifier\n",
    "def calculate_cv(X, y):\n",
    "    results = {\n",
    "        'lr': [],\n",
    "        'svm': [],\n",
    "        'nb': [],\n",
    "        'combined': []\n",
    "    }\n",
    "    lm = LogisticRegression()\n",
    "    svm = LinearSVC()\n",
    "    nb = MultinomialNB()\n",
    "    vc = VotingClassifier([('lm', lm), ('svm', svm), ('nb', nb)])\n",
    "    \n",
    "    for c in rating:\n",
    "        y_adj = np.array(y==c)\n",
    "        results['lr'].append((cross_val_score(lm, X, y_adj, cv=10, scoring='accuracy').mean(), c))\n",
    "        results['svm'].append((cross_val_score(svm, X, y_adj, cv=10, scoring='accuracy').mean(), c))\n",
    "        results['nb'].append((cross_val_score(nb, X, y_adj, cv=10, scoring='accuracy').mean(), c))\n",
    "        results['combined'].append((cross_val_score(vc, X, y_adj, cv=10, scoring='accuracy').mean(), c))\n",
    "    return results\n",
    "\n",
    "cv_scores = calculate_cv(X_test, y_test)\n",
    "\n",
    "print(\"Model accuracy predictions\\n\")\n",
    "for m,s in cv_scores.items():\n",
    "    for ss in s:\n",
    "        print(\"{M} model ({R} rating): {S:.1%}\".format(M=m.upper(), R=ss[1], S=ss[0]))\n",
    "    print()\n"
   ]
  },
  {
   "cell_type": "code",
   "execution_count": 138,
   "id": "81bc8b17",
   "metadata": {},
   "outputs": [],
   "source": [
    "def get_lr(x, y):\n",
    "    models = []\n",
    "    for c in rating:\n",
    "        y_adj = np.array(y==c)\n",
    "        lm = LogisticRegression()\n",
    "        lm_f = lm.fit(x, y_adj)\n",
    "        models.append(lm_f)\n",
    "    return models\n",
    "\n",
    "lr_m = get_lr(X_train, y_train)"
   ]
  },
  {
   "cell_type": "code",
   "execution_count": 139,
   "id": "90379eff",
   "metadata": {},
   "outputs": [],
   "source": [
    "get_ipython().run_line_magic('matplotlib', 'inline')\n",
    "\n",
    "def plot_coef(title, model, feature_names, n_words):\n",
    "    v = []\n",
    "    for topic_idx, topic in enumerate(model.coef_):\n",
    "        [v.append([feature_names[i], model.coef_.item(i)]) for i in topic.argsort()[:-n_words - 1:-1]]\n",
    "        [v.append([feature_names[i], model.coef_.item(i)]) for i in topic.argsort()[0:n_words]]\n",
    "    df = pd.DataFrame(v, columns=['Term','Coefficient']).sort_values(by='Coefficient',ascending=False)\n",
    "    df['c'] = df['Coefficient']>0\n",
    "    ax = df.plot(x='Term', y='Coefficient', kind='barh', color=df['c'].map({True: 'g', False: 'r'}), grid=True, legend=False,\n",
    "           title=title)\n",
    "    ax.set_xlabel(\"Coefficient\")"
   ]
  },
  {
   "cell_type": "code",
   "execution_count": 140,
   "id": "ad02ee94",
   "metadata": {},
   "outputs": [
    {
     "name": "stderr",
     "output_type": "stream",
     "text": [
      "C:\\Users\\indria.hazhiah\\Anaconda3\\lib\\site-packages\\sklearn\\utils\\deprecation.py:87: FutureWarning: Function get_feature_names is deprecated; get_feature_names is deprecated in 1.0 and will be removed in 1.2. Please use get_feature_names_out instead.\n",
      "  warnings.warn(msg, category=FutureWarning)\n",
      "C:\\Users\\indria.hazhiah\\Anaconda3\\lib\\site-packages\\sklearn\\utils\\deprecation.py:87: FutureWarning: Function get_feature_names is deprecated; get_feature_names is deprecated in 1.0 and will be removed in 1.2. Please use get_feature_names_out instead.\n",
      "  warnings.warn(msg, category=FutureWarning)\n",
      "C:\\Users\\indria.hazhiah\\Anaconda3\\lib\\site-packages\\sklearn\\utils\\deprecation.py:87: FutureWarning: Function get_feature_names is deprecated; get_feature_names is deprecated in 1.0 and will be removed in 1.2. Please use get_feature_names_out instead.\n",
      "  warnings.warn(msg, category=FutureWarning)\n"
     ]
    },
    {
     "data": {
      "image/png": "[encoded data removed]",
      "text/plain": [
       "<Figure size 432x288 with 1 Axes>"
      ]
     },
     "metadata": {
      "needs_background": "light"
     },
     "output_type": "display_data"
    },
    {
     "data": {
      "image/png": "[encoded data removed]",
      "text/plain": [
       "<Figure size 432x288 with 1 Axes>"
      ]
     },
     "metadata": {
      "needs_background": "light"
     },
     "output_type": "display_data"
    },
    {
     "data": {
      "image/png": "[encoded data removed]",
      "text/plain": [
       "<Figure size 432x288 with 1 Axes>"
      ]
     },
     "metadata": {
      "needs_background": "light"
     },
     "output_type": "display_data"
    }
   ],
   "source": [
    "n_terms = 12\n",
    "for c in range(0,len(rating)):\n",
    "    plot_coef('Top {N} words in ({R}) review model\\nGreen = Associated | Red = Not Associated'.format(N=n_terms*2, R=rating[c]), \n",
    "              lr_m[c], tfidf_m.get_feature_names(), n_terms)"
   ]
  },
  {
   "cell_type": "code",
   "execution_count": 141,
   "id": "67b5c229",
   "metadata": {},
   "outputs": [],
   "source": [
    "def test_review(text):\n",
    "    test_str = [text]\n",
    "    test_new = tfidf_m.transform(test_str)\n",
    "\n",
    "    print('Review text: \"{R}\"\\n'.format(R=test_str[0]))\n",
    "    print('Model Prediction')\n",
    "    for m in range(0,3):\n",
    "        print('Model ({M}): {P:.1%}'.format(M=rating[m], P=lr_m[m].predict_proba(test_new)[0][1]))"
   ]
  },
  {
   "cell_type": "markdown",
   "id": "1b9225a7",
   "metadata": {},
   "source": [
    "## Coba Review Text Kepuasan Pembeli"
   ]
  },
  {
   "cell_type": "code",
   "execution_count": 142,
   "id": "af686333",
   "metadata": {},
   "outputs": [
    {
     "name": "stdout",
     "output_type": "stream",
     "text": [
      "Review text: \"I bought a DVD is reject and I returned it when it arrived.\"\n",
      "\n",
      "Model Prediction\n",
      "Model (low): 23.5%\n",
      "Model (neutral): 3.9%\n",
      "Model (high): 75.9%\n"
     ]
    }
   ],
   "source": [
    "test_review('I bought a DVD is reject and I returned it when it arrived.')"
   ]
  },
  {
   "cell_type": "code",
   "execution_count": 143,
   "id": "35c3e241",
   "metadata": {},
   "outputs": [
    {
     "name": "stdout",
     "output_type": "stream",
     "text": [
      "Review text: \"I really like a DVD, good cover, and the price was cheap I am glad to bought it\"\n",
      "\n",
      "Model Prediction\n",
      "Model (low): 9.3%\n",
      "Model (neutral): 6.2%\n",
      "Model (high): 84.0%\n"
     ]
    }
   ],
   "source": [
    "test_review('I really like a DVD, good cover, and the price was cheap I am glad to bought it')"
   ]
  },
  {
   "cell_type": "code",
   "execution_count": null,
   "id": "10a8edf1",
   "metadata": {},
   "outputs": [],
   "source": []
  }
 ],
 "metadata": {
  "kernelspec": {
   "display_name": "Python 3 (ipykernel)",
   "language": "python",
   "name": "python3"
  },
  "language_info": {
   "codemirror_mode": {
    "name": "ipython",
    "version": 3
   },
   "file_extension": ".py",
   "mimetype": "text/x-python",
   "name": "python",
   "nbconvert_exporter": "python",
   "pygments_lexer": "ipython3",
   "version": "3.9.12"
  }
 },
 "nbformat": 4,
 "nbformat_minor": 5
}
