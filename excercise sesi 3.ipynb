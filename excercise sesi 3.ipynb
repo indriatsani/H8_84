{
 "cells": [
  {
   "cell_type": "code",
   "execution_count": 1,
   "id": "04aec640",
   "metadata": {},
   "outputs": [
    {
     "name": "stdout",
     "output_type": "stream",
     "text": [
      "Masukan bilangan:6\n",
      "Bilangan 6 adalah genap.\n"
     ]
    }
   ],
   "source": [
    "n =int(input(\"Masukan bilangan:\"))\n",
    "\n",
    "if(n<0):\n",
    "    print(\"Bilangan {} adalah bukan ganjil dan genap.\".format(n))\n",
    "elif n % 2 == 0:\n",
    "    print(\"Bilangan {} adalah genap.\".format(n))\n",
    "else:\n",
    "    print(\"Bilangan {} adalah ganjil.\".format(n))"
   ]
  },
  {
   "cell_type": "code",
   "execution_count": 3,
   "id": "7a1dd344",
   "metadata": {},
   "outputs": [
    {
     "name": "stdout",
     "output_type": "stream",
     "text": [
      "MENU MENGHITUNG RUMUS LUAS SEGITIGA DAN PERSEGI\n",
      "Masukan Angka 1 Untuk Menghitung Luas Segitiga\n",
      "Masukan Angka 2 Untuk Menghitung Luas Persegi\n",
      "Pilih Menu Yang Diinginkan:1\n",
      "Masukan Tinggi Segitiga:10\n",
      "Masukan Alas Segitiga:20\n",
      "Luas Segitiga tersebut adalah: 100.0\n"
     ]
    }
   ],
   "source": [
    "print(\"MENU MENGHITUNG RUMUS LUAS SEGITIGA DAN PERSEGI\")\n",
    "print(\"Masukan Angka 1 Untuk Menghitung Luas Segitiga\")\n",
    "print(\"Masukan Angka 2 Untuk Menghitung Luas Persegi\")\n",
    "\n",
    "n=int(input(\"Pilih Menu Yang Diinginkan:\"))\n",
    "\n",
    "if n==1:\n",
    "    t=int(input(\"Masukan Tinggi Segitiga:\"))\n",
    "    a=int(input(\"Masukan Alas Segitiga:\"))\n",
    "    luas=0.5*a*t\n",
    "    print(\"Luas Segitiga tersebut adalah:\",luas)\n",
    "elif n==2:\n",
    "    p=int(input(\"Masukan Panjang Segiempat:\"))\n",
    "    l=int(input(\"Masukkan Lebar Segiempat:\"))\n",
    "    luas_segiempat=p*l\n",
    "    print(\"Luas Segiempat adalah \",luas_segiempat)"
   ]
  },
  {
   "cell_type": "code",
   "execution_count": 4,
   "id": "075f8256",
   "metadata": {},
   "outputs": [
    {
     "name": "stdout",
     "output_type": "stream",
     "text": [
      "Masukkan Jumlah Hari: 398\n",
      "398 hari = 1 Tahun 1 bulan 1 minggu 1 hari\n"
     ]
    }
   ],
   "source": [
    "import math\n",
    "jumlah_hari = int(input(\"Masukkan Jumlah Hari: \"))\n",
    "tahun = math.floor(jumlah_hari/360)\n",
    "bulan = math.floor((jumlah_hari - (tahun*360))/30)\n",
    "minggu = math.floor((jumlah_hari - (tahun *360)-(30*bulan))/7)\n",
    "hari = math.floor(jumlah_hari - (minggu*7)-(tahun *360)-(30*bulan))\n",
    "print(jumlah_hari,\"hari\",\"=\",tahun,\"Tahun\",bulan,\"bulan\",minggu,\"minggu\",hari,\"hari\")"
   ]
  },
  {
   "cell_type": "code",
   "execution_count": null,
   "id": "9eaf728f",
   "metadata": {},
   "outputs": [],
   "source": []
  }
 ],
 "metadata": {
  "kernelspec": {
   "display_name": "Python 3 (ipykernel)",
   "language": "python",
   "name": "python3"
  },
  "language_info": {
   "codemirror_mode": {
    "name": "ipython",
    "version": 3
   },
   "file_extension": ".py",
   "mimetype": "text/x-python",
   "name": "python",
   "nbconvert_exporter": "python",
   "pygments_lexer": "ipython3",
   "version": "3.9.7"
  }
 },
 "nbformat": 4,
 "nbformat_minor": 5
}
